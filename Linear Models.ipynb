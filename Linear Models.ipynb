{
 "cells": [
  {
   "cell_type": "markdown",
   "metadata": {},
   "source": [
    "# Linear Regression "
   ]
  },
  {
   "cell_type": "code",
   "execution_count": 1,
   "metadata": {
    "collapsed": true
   },
   "outputs": [],
   "source": [
    "import pandas as pd \n",
    "import numpy as np"
   ]
  },
  {
   "cell_type": "code",
   "execution_count": 2,
   "metadata": {
    "collapsed": true
   },
   "outputs": [],
   "source": [
    "train_file=r'~/Dropbox/0.0 Data/loan_data_train.csv'\n",
    "test_file=r'~/Dropbox/0.0 Data/loan_data_test.csv'\n",
    "\n",
    "ld_train=pd.read_csv(train_file)\n",
    "ld_test=pd.read_csv(test_file)               "
   ]
  },
  {
   "cell_type": "code",
   "execution_count": 3,
   "metadata": {},
   "outputs": [
    {
     "data": {
      "text/html": [
       "<div>\n",
       "<style>\n",
       "    .dataframe thead tr:only-child th {\n",
       "        text-align: right;\n",
       "    }\n",
       "\n",
       "    .dataframe thead th {\n",
       "        text-align: left;\n",
       "    }\n",
       "\n",
       "    .dataframe tbody tr th {\n",
       "        vertical-align: top;\n",
       "    }\n",
       "</style>\n",
       "<table border=\"1\" class=\"dataframe\">\n",
       "  <thead>\n",
       "    <tr style=\"text-align: right;\">\n",
       "      <th></th>\n",
       "      <th>ID</th>\n",
       "      <th>Amount.Requested</th>\n",
       "      <th>Amount.Funded.By.Investors</th>\n",
       "      <th>Loan.Length</th>\n",
       "      <th>Loan.Purpose</th>\n",
       "      <th>Debt.To.Income.Ratio</th>\n",
       "      <th>State</th>\n",
       "      <th>Home.Ownership</th>\n",
       "      <th>Monthly.Income</th>\n",
       "      <th>FICO.Range</th>\n",
       "      <th>Open.CREDIT.Lines</th>\n",
       "      <th>Revolving.CREDIT.Balance</th>\n",
       "      <th>Inquiries.in.the.Last.6.Months</th>\n",
       "      <th>Employment.Length</th>\n",
       "    </tr>\n",
       "  </thead>\n",
       "  <tbody>\n",
       "    <tr>\n",
       "      <th>0</th>\n",
       "      <td>20093</td>\n",
       "      <td>5000</td>\n",
       "      <td>5000</td>\n",
       "      <td>60 months</td>\n",
       "      <td>moving</td>\n",
       "      <td>12.59%</td>\n",
       "      <td>NY</td>\n",
       "      <td>RENT</td>\n",
       "      <td>4416.67</td>\n",
       "      <td>690-694</td>\n",
       "      <td>13</td>\n",
       "      <td>7686</td>\n",
       "      <td>0</td>\n",
       "      <td>&lt; 1 year</td>\n",
       "    </tr>\n",
       "    <tr>\n",
       "      <th>1</th>\n",
       "      <td>62445</td>\n",
       "      <td>18000</td>\n",
       "      <td>18000</td>\n",
       "      <td>60 months</td>\n",
       "      <td>debt_consolidation</td>\n",
       "      <td>4.93%</td>\n",
       "      <td>CA</td>\n",
       "      <td>RENT</td>\n",
       "      <td>5258.50</td>\n",
       "      <td>710-714</td>\n",
       "      <td>6</td>\n",
       "      <td>11596</td>\n",
       "      <td>0</td>\n",
       "      <td>10+ years</td>\n",
       "    </tr>\n",
       "    <tr>\n",
       "      <th>2</th>\n",
       "      <td>65248</td>\n",
       "      <td>7200</td>\n",
       "      <td>7200</td>\n",
       "      <td>60 months</td>\n",
       "      <td>debt_consolidation</td>\n",
       "      <td>25.16%</td>\n",
       "      <td>LA</td>\n",
       "      <td>MORTGAGE</td>\n",
       "      <td>3750.00</td>\n",
       "      <td>750-754</td>\n",
       "      <td>13</td>\n",
       "      <td>7283</td>\n",
       "      <td>0</td>\n",
       "      <td>6 years</td>\n",
       "    </tr>\n",
       "    <tr>\n",
       "      <th>3</th>\n",
       "      <td>81822</td>\n",
       "      <td>7200</td>\n",
       "      <td>7200</td>\n",
       "      <td>36 months</td>\n",
       "      <td>debt_consolidation</td>\n",
       "      <td>17.27%</td>\n",
       "      <td>NY</td>\n",
       "      <td>MORTGAGE</td>\n",
       "      <td>3416.67</td>\n",
       "      <td>790-794</td>\n",
       "      <td>14</td>\n",
       "      <td>4838</td>\n",
       "      <td>0</td>\n",
       "      <td>10+ years</td>\n",
       "    </tr>\n",
       "    <tr>\n",
       "      <th>4</th>\n",
       "      <td>57923</td>\n",
       "      <td>22000</td>\n",
       "      <td>22000</td>\n",
       "      <td>60 months</td>\n",
       "      <td>debt_consolidation</td>\n",
       "      <td>18.28%</td>\n",
       "      <td>MI</td>\n",
       "      <td>MORTGAGE</td>\n",
       "      <td>6083.33</td>\n",
       "      <td>720-724</td>\n",
       "      <td>9</td>\n",
       "      <td>20181</td>\n",
       "      <td>0</td>\n",
       "      <td>8 years</td>\n",
       "    </tr>\n",
       "  </tbody>\n",
       "</table>\n",
       "</div>"
      ],
      "text/plain": [
       "      ID  Amount.Requested Amount.Funded.By.Investors Loan.Length  \\\n",
       "0  20093              5000                       5000   60 months   \n",
       "1  62445             18000                      18000   60 months   \n",
       "2  65248              7200                       7200   60 months   \n",
       "3  81822              7200                       7200   36 months   \n",
       "4  57923             22000                      22000   60 months   \n",
       "\n",
       "         Loan.Purpose Debt.To.Income.Ratio State Home.Ownership  \\\n",
       "0              moving               12.59%    NY           RENT   \n",
       "1  debt_consolidation                4.93%    CA           RENT   \n",
       "2  debt_consolidation               25.16%    LA       MORTGAGE   \n",
       "3  debt_consolidation               17.27%    NY       MORTGAGE   \n",
       "4  debt_consolidation               18.28%    MI       MORTGAGE   \n",
       "\n",
       "   Monthly.Income FICO.Range Open.CREDIT.Lines  Revolving.CREDIT.Balance  \\\n",
       "0         4416.67    690-694                13                      7686   \n",
       "1         5258.50    710-714                 6                     11596   \n",
       "2         3750.00    750-754                13                      7283   \n",
       "3         3416.67    790-794                14                      4838   \n",
       "4         6083.33    720-724                 9                     20181   \n",
       "\n",
       "   Inquiries.in.the.Last.6.Months Employment.Length  \n",
       "0                               0          < 1 year  \n",
       "1                               0         10+ years  \n",
       "2                               0           6 years  \n",
       "3                               0         10+ years  \n",
       "4                               0           8 years  "
      ]
     },
     "execution_count": 3,
     "metadata": {},
     "output_type": "execute_result"
    }
   ],
   "source": [
    "ld_test.head()"
   ]
  },
  {
   "cell_type": "code",
   "execution_count": 4,
   "metadata": {},
   "outputs": [
    {
     "data": {
      "text/html": [
       "<div>\n",
       "<style>\n",
       "    .dataframe thead tr:only-child th {\n",
       "        text-align: right;\n",
       "    }\n",
       "\n",
       "    .dataframe thead th {\n",
       "        text-align: left;\n",
       "    }\n",
       "\n",
       "    .dataframe tbody tr th {\n",
       "        vertical-align: top;\n",
       "    }\n",
       "</style>\n",
       "<table border=\"1\" class=\"dataframe\">\n",
       "  <thead>\n",
       "    <tr style=\"text-align: right;\">\n",
       "      <th></th>\n",
       "      <th>ID</th>\n",
       "      <th>Amount.Requested</th>\n",
       "      <th>Amount.Funded.By.Investors</th>\n",
       "      <th>Interest.Rate</th>\n",
       "      <th>Loan.Length</th>\n",
       "      <th>Loan.Purpose</th>\n",
       "      <th>Debt.To.Income.Ratio</th>\n",
       "      <th>State</th>\n",
       "      <th>Home.Ownership</th>\n",
       "      <th>Monthly.Income</th>\n",
       "      <th>FICO.Range</th>\n",
       "      <th>Open.CREDIT.Lines</th>\n",
       "      <th>Revolving.CREDIT.Balance</th>\n",
       "      <th>Inquiries.in.the.Last.6.Months</th>\n",
       "      <th>Employment.Length</th>\n",
       "    </tr>\n",
       "  </thead>\n",
       "  <tbody>\n",
       "    <tr>\n",
       "      <th>0</th>\n",
       "      <td>79542.0</td>\n",
       "      <td>25000</td>\n",
       "      <td>25000</td>\n",
       "      <td>18.49%</td>\n",
       "      <td>60 months</td>\n",
       "      <td>debt_consolidation</td>\n",
       "      <td>27.56%</td>\n",
       "      <td>VA</td>\n",
       "      <td>MORTGAGE</td>\n",
       "      <td>8606.56</td>\n",
       "      <td>720-724</td>\n",
       "      <td>11</td>\n",
       "      <td>15210</td>\n",
       "      <td>3.0</td>\n",
       "      <td>5 years</td>\n",
       "    </tr>\n",
       "    <tr>\n",
       "      <th>1</th>\n",
       "      <td>75473.0</td>\n",
       "      <td>19750</td>\n",
       "      <td>19750</td>\n",
       "      <td>17.27%</td>\n",
       "      <td>60 months</td>\n",
       "      <td>debt_consolidation</td>\n",
       "      <td>13.39%</td>\n",
       "      <td>NY</td>\n",
       "      <td>MORTGAGE</td>\n",
       "      <td>6737.50</td>\n",
       "      <td>710-714</td>\n",
       "      <td>14</td>\n",
       "      <td>19070</td>\n",
       "      <td>3.0</td>\n",
       "      <td>4 years</td>\n",
       "    </tr>\n",
       "    <tr>\n",
       "      <th>2</th>\n",
       "      <td>67265.0</td>\n",
       "      <td>2100</td>\n",
       "      <td>2100</td>\n",
       "      <td>14.33%</td>\n",
       "      <td>36 months</td>\n",
       "      <td>major_purchase</td>\n",
       "      <td>3.50%</td>\n",
       "      <td>LA</td>\n",
       "      <td>OWN</td>\n",
       "      <td>1000.00</td>\n",
       "      <td>690-694</td>\n",
       "      <td>13</td>\n",
       "      <td>893</td>\n",
       "      <td>1.0</td>\n",
       "      <td>&lt; 1 year</td>\n",
       "    </tr>\n",
       "    <tr>\n",
       "      <th>3</th>\n",
       "      <td>80167.0</td>\n",
       "      <td>28000</td>\n",
       "      <td>28000</td>\n",
       "      <td>16.29%</td>\n",
       "      <td>36 months</td>\n",
       "      <td>credit_card</td>\n",
       "      <td>19.62%</td>\n",
       "      <td>NV</td>\n",
       "      <td>MORTGAGE</td>\n",
       "      <td>7083.33</td>\n",
       "      <td>710-714</td>\n",
       "      <td>12</td>\n",
       "      <td>38194</td>\n",
       "      <td>1.0</td>\n",
       "      <td>10+ years</td>\n",
       "    </tr>\n",
       "    <tr>\n",
       "      <th>4</th>\n",
       "      <td>17240.0</td>\n",
       "      <td>24250</td>\n",
       "      <td>17431.82</td>\n",
       "      <td>12.23%</td>\n",
       "      <td>60 months</td>\n",
       "      <td>credit_card</td>\n",
       "      <td>23.79%</td>\n",
       "      <td>OH</td>\n",
       "      <td>MORTGAGE</td>\n",
       "      <td>5833.33</td>\n",
       "      <td>730-734</td>\n",
       "      <td>6</td>\n",
       "      <td>31061</td>\n",
       "      <td>2.0</td>\n",
       "      <td>10+ years</td>\n",
       "    </tr>\n",
       "  </tbody>\n",
       "</table>\n",
       "</div>"
      ],
      "text/plain": [
       "        ID Amount.Requested Amount.Funded.By.Investors Interest.Rate  \\\n",
       "0  79542.0            25000                      25000        18.49%   \n",
       "1  75473.0            19750                      19750        17.27%   \n",
       "2  67265.0             2100                       2100        14.33%   \n",
       "3  80167.0            28000                      28000        16.29%   \n",
       "4  17240.0            24250                   17431.82        12.23%   \n",
       "\n",
       "  Loan.Length        Loan.Purpose Debt.To.Income.Ratio State Home.Ownership  \\\n",
       "0   60 months  debt_consolidation               27.56%    VA       MORTGAGE   \n",
       "1   60 months  debt_consolidation               13.39%    NY       MORTGAGE   \n",
       "2   36 months      major_purchase                3.50%    LA            OWN   \n",
       "3   36 months         credit_card               19.62%    NV       MORTGAGE   \n",
       "4   60 months         credit_card               23.79%    OH       MORTGAGE   \n",
       "\n",
       "   Monthly.Income FICO.Range Open.CREDIT.Lines Revolving.CREDIT.Balance  \\\n",
       "0         8606.56    720-724                11                    15210   \n",
       "1         6737.50    710-714                14                    19070   \n",
       "2         1000.00    690-694                13                      893   \n",
       "3         7083.33    710-714                12                    38194   \n",
       "4         5833.33    730-734                 6                    31061   \n",
       "\n",
       "   Inquiries.in.the.Last.6.Months Employment.Length  \n",
       "0                             3.0           5 years  \n",
       "1                             3.0           4 years  \n",
       "2                             1.0          < 1 year  \n",
       "3                             1.0         10+ years  \n",
       "4                             2.0         10+ years  "
      ]
     },
     "execution_count": 4,
     "metadata": {},
     "output_type": "execute_result"
    }
   ],
   "source": [
    "ld_train.head()"
   ]
  },
  {
   "cell_type": "code",
   "execution_count": 5,
   "metadata": {
    "collapsed": true
   },
   "outputs": [],
   "source": [
    "# lets combine the data for data prep\n",
    "\n",
    "ld_test['Interest.Rate']=np.nan\n",
    "ld_train['data']='train'\n",
    "ld_test['data']='test'\n",
    "ld_test=ld_test[ld_train.columns]\n",
    "ld_all=pd.concat([ld_train,ld_test],axis=0)"
   ]
  },
  {
   "cell_type": "code",
   "execution_count": 6,
   "metadata": {},
   "outputs": [
    {
     "data": {
      "text/html": [
       "<div>\n",
       "<style>\n",
       "    .dataframe thead tr:only-child th {\n",
       "        text-align: right;\n",
       "    }\n",
       "\n",
       "    .dataframe thead th {\n",
       "        text-align: left;\n",
       "    }\n",
       "\n",
       "    .dataframe tbody tr th {\n",
       "        vertical-align: top;\n",
       "    }\n",
       "</style>\n",
       "<table border=\"1\" class=\"dataframe\">\n",
       "  <thead>\n",
       "    <tr style=\"text-align: right;\">\n",
       "      <th></th>\n",
       "      <th>ID</th>\n",
       "      <th>Amount.Requested</th>\n",
       "      <th>Amount.Funded.By.Investors</th>\n",
       "      <th>Interest.Rate</th>\n",
       "      <th>Loan.Length</th>\n",
       "      <th>Loan.Purpose</th>\n",
       "      <th>Debt.To.Income.Ratio</th>\n",
       "      <th>State</th>\n",
       "      <th>Home.Ownership</th>\n",
       "      <th>Monthly.Income</th>\n",
       "      <th>FICO.Range</th>\n",
       "      <th>Open.CREDIT.Lines</th>\n",
       "      <th>Revolving.CREDIT.Balance</th>\n",
       "      <th>Inquiries.in.the.Last.6.Months</th>\n",
       "      <th>Employment.Length</th>\n",
       "      <th>data</th>\n",
       "    </tr>\n",
       "  </thead>\n",
       "  <tbody>\n",
       "    <tr>\n",
       "      <th>0</th>\n",
       "      <td>79542.0</td>\n",
       "      <td>25000</td>\n",
       "      <td>25000</td>\n",
       "      <td>18.49%</td>\n",
       "      <td>60 months</td>\n",
       "      <td>debt_consolidation</td>\n",
       "      <td>27.56%</td>\n",
       "      <td>VA</td>\n",
       "      <td>MORTGAGE</td>\n",
       "      <td>8606.56</td>\n",
       "      <td>720-724</td>\n",
       "      <td>11</td>\n",
       "      <td>15210</td>\n",
       "      <td>3.0</td>\n",
       "      <td>5 years</td>\n",
       "      <td>train</td>\n",
       "    </tr>\n",
       "    <tr>\n",
       "      <th>1</th>\n",
       "      <td>75473.0</td>\n",
       "      <td>19750</td>\n",
       "      <td>19750</td>\n",
       "      <td>17.27%</td>\n",
       "      <td>60 months</td>\n",
       "      <td>debt_consolidation</td>\n",
       "      <td>13.39%</td>\n",
       "      <td>NY</td>\n",
       "      <td>MORTGAGE</td>\n",
       "      <td>6737.50</td>\n",
       "      <td>710-714</td>\n",
       "      <td>14</td>\n",
       "      <td>19070</td>\n",
       "      <td>3.0</td>\n",
       "      <td>4 years</td>\n",
       "      <td>train</td>\n",
       "    </tr>\n",
       "    <tr>\n",
       "      <th>2</th>\n",
       "      <td>67265.0</td>\n",
       "      <td>2100</td>\n",
       "      <td>2100</td>\n",
       "      <td>14.33%</td>\n",
       "      <td>36 months</td>\n",
       "      <td>major_purchase</td>\n",
       "      <td>3.50%</td>\n",
       "      <td>LA</td>\n",
       "      <td>OWN</td>\n",
       "      <td>1000.00</td>\n",
       "      <td>690-694</td>\n",
       "      <td>13</td>\n",
       "      <td>893</td>\n",
       "      <td>1.0</td>\n",
       "      <td>&lt; 1 year</td>\n",
       "      <td>train</td>\n",
       "    </tr>\n",
       "    <tr>\n",
       "      <th>3</th>\n",
       "      <td>80167.0</td>\n",
       "      <td>28000</td>\n",
       "      <td>28000</td>\n",
       "      <td>16.29%</td>\n",
       "      <td>36 months</td>\n",
       "      <td>credit_card</td>\n",
       "      <td>19.62%</td>\n",
       "      <td>NV</td>\n",
       "      <td>MORTGAGE</td>\n",
       "      <td>7083.33</td>\n",
       "      <td>710-714</td>\n",
       "      <td>12</td>\n",
       "      <td>38194</td>\n",
       "      <td>1.0</td>\n",
       "      <td>10+ years</td>\n",
       "      <td>train</td>\n",
       "    </tr>\n",
       "    <tr>\n",
       "      <th>4</th>\n",
       "      <td>17240.0</td>\n",
       "      <td>24250</td>\n",
       "      <td>17431.82</td>\n",
       "      <td>12.23%</td>\n",
       "      <td>60 months</td>\n",
       "      <td>credit_card</td>\n",
       "      <td>23.79%</td>\n",
       "      <td>OH</td>\n",
       "      <td>MORTGAGE</td>\n",
       "      <td>5833.33</td>\n",
       "      <td>730-734</td>\n",
       "      <td>6</td>\n",
       "      <td>31061</td>\n",
       "      <td>2.0</td>\n",
       "      <td>10+ years</td>\n",
       "      <td>train</td>\n",
       "    </tr>\n",
       "  </tbody>\n",
       "</table>\n",
       "</div>"
      ],
      "text/plain": [
       "        ID Amount.Requested Amount.Funded.By.Investors Interest.Rate  \\\n",
       "0  79542.0            25000                      25000        18.49%   \n",
       "1  75473.0            19750                      19750        17.27%   \n",
       "2  67265.0             2100                       2100        14.33%   \n",
       "3  80167.0            28000                      28000        16.29%   \n",
       "4  17240.0            24250                   17431.82        12.23%   \n",
       "\n",
       "  Loan.Length        Loan.Purpose Debt.To.Income.Ratio State Home.Ownership  \\\n",
       "0   60 months  debt_consolidation               27.56%    VA       MORTGAGE   \n",
       "1   60 months  debt_consolidation               13.39%    NY       MORTGAGE   \n",
       "2   36 months      major_purchase                3.50%    LA            OWN   \n",
       "3   36 months         credit_card               19.62%    NV       MORTGAGE   \n",
       "4   60 months         credit_card               23.79%    OH       MORTGAGE   \n",
       "\n",
       "   Monthly.Income FICO.Range Open.CREDIT.Lines Revolving.CREDIT.Balance  \\\n",
       "0         8606.56    720-724                11                    15210   \n",
       "1         6737.50    710-714                14                    19070   \n",
       "2         1000.00    690-694                13                      893   \n",
       "3         7083.33    710-714                12                    38194   \n",
       "4         5833.33    730-734                 6                    31061   \n",
       "\n",
       "   Inquiries.in.the.Last.6.Months Employment.Length   data  \n",
       "0                             3.0           5 years  train  \n",
       "1                             3.0           4 years  train  \n",
       "2                             1.0          < 1 year  train  \n",
       "3                             1.0         10+ years  train  \n",
       "4                             2.0         10+ years  train  "
      ]
     },
     "execution_count": 6,
     "metadata": {},
     "output_type": "execute_result"
    }
   ],
   "source": [
    "ld_all.head()"
   ]
  },
  {
   "cell_type": "code",
   "execution_count": 7,
   "metadata": {},
   "outputs": [
    {
     "data": {
      "text/plain": [
       "ID                                float64\n",
       "Amount.Requested                   object\n",
       "Amount.Funded.By.Investors         object\n",
       "Interest.Rate                      object\n",
       "Loan.Length                        object\n",
       "Loan.Purpose                       object\n",
       "Debt.To.Income.Ratio               object\n",
       "State                              object\n",
       "Home.Ownership                     object\n",
       "Monthly.Income                    float64\n",
       "FICO.Range                         object\n",
       "Open.CREDIT.Lines                  object\n",
       "Revolving.CREDIT.Balance           object\n",
       "Inquiries.in.the.Last.6.Months    float64\n",
       "Employment.Length                  object\n",
       "data                               object\n",
       "dtype: object"
      ]
     },
     "execution_count": 7,
     "metadata": {},
     "output_type": "execute_result"
    }
   ],
   "source": [
    "ld_all.dtypes"
   ]
  },
  {
   "cell_type": "code",
   "execution_count": 8,
   "metadata": {
    "collapsed": true
   },
   "outputs": [],
   "source": [
    "# ID,Amount.Funded.By.Investors : drop \n",
    "# Interest Rate , Debt to income ratio : remove % and then to numeric\n",
    "# Amount.Requested , 'Open.CREDIT.Lines','Revolving.CREDIT.Balance': convert it to numeric \n",
    "# FICO.Range : replace it by a numeric column which is average of the range\n",
    "# Employment Length : convert to number\n",
    "# Loan Lenth, Loan Purpose , State , Home ownership: dummies for categories with good occurence rate"
   ]
  },
  {
   "cell_type": "code",
   "execution_count": 9,
   "metadata": {
    "collapsed": true
   },
   "outputs": [],
   "source": [
    "ld_all.drop(['ID','Amount.Funded.By.Investors'],axis=1,inplace=True)"
   ]
  },
  {
   "cell_type": "code",
   "execution_count": 10,
   "metadata": {
    "collapsed": true
   },
   "outputs": [],
   "source": [
    "for col in ['Interest.Rate','Debt.To.Income.Ratio']:\n",
    "    ld_all[col]=ld_all[col].str.replace(\"%\",\"\")"
   ]
  },
  {
   "cell_type": "code",
   "execution_count": 11,
   "metadata": {
    "collapsed": true
   },
   "outputs": [],
   "source": [
    "for col in ['Amount.Requested', 'Interest.Rate','Debt.To.Income.Ratio',\n",
    "            'Open.CREDIT.Lines','Revolving.CREDIT.Balance']:\n",
    "    ld_all[col]=pd.to_numeric(ld_all[col],errors='coerce')\n",
    "    "
   ]
  },
  {
   "cell_type": "code",
   "execution_count": 12,
   "metadata": {
    "collapsed": true
   },
   "outputs": [],
   "source": [
    "k=ld_all['FICO.Range'].str.split(\"-\",expand=True).astype(float)\n",
    "\n",
    "ld_all['fico']=0.5*(k[0]+k[1])\n",
    "\n",
    "del ld_all['FICO.Range']\n",
    "\n"
   ]
  },
  {
   "cell_type": "code",
   "execution_count": 13,
   "metadata": {},
   "outputs": [
    {
     "data": {
      "text/plain": [
       "10+ years    653\n",
       "< 1 year     249\n",
       "2 years      243\n",
       "3 years      235\n",
       "5 years      202\n",
       "4 years      191\n",
       "1 year       177\n",
       "6 years      163\n",
       "7 years      127\n",
       "8 years      108\n",
       "n/a           77\n",
       "9 years       72\n",
       ".              2\n",
       "Name: Employment.Length, dtype: int64"
      ]
     },
     "execution_count": 13,
     "metadata": {},
     "output_type": "execute_result"
    }
   ],
   "source": [
    "ld_all['Employment.Length'].value_counts()"
   ]
  },
  {
   "cell_type": "code",
   "execution_count": 14,
   "metadata": {
    "collapsed": true
   },
   "outputs": [],
   "source": [
    "ld_all['Employment.Length']=ld_all['Employment.Length'].str.replace('years',\"\")\n",
    "\n",
    "ld_all['Employment.Length']=ld_all['Employment.Length'].str.replace('year',\"\")\n",
    "\n",
    "ld_all['Employment.Length']=np.where(ld_all['Employment.Length'].str[:2]==\"10\",10,ld_all['Employment.Length'])\n",
    "\n",
    "ld_all['Employment.Length']=np.where(ld_all['Employment.Length'].str[0]==\"<\",0,ld_all['Employment.Length'])\n",
    "\n",
    "ld_all['Employment.Length']=pd.to_numeric(ld_all['Employment.Length'],errors='coerce')"
   ]
  },
  {
   "cell_type": "code",
   "execution_count": 15,
   "metadata": {
    "collapsed": true
   },
   "outputs": [],
   "source": [
    "# Notice that to apply string function on pandas data frame columns you need to str attribute\n",
    "cat_cols=ld_all.select_dtypes(['object']).columns"
   ]
  },
  {
   "cell_type": "code",
   "execution_count": 16,
   "metadata": {},
   "outputs": [
    {
     "data": {
      "text/plain": [
       "Index(['Loan.Length', 'Loan.Purpose', 'State', 'Home.Ownership', 'data'], dtype='object')"
      ]
     },
     "execution_count": 16,
     "metadata": {},
     "output_type": "execute_result"
    }
   ],
   "source": [
    "cat_cols"
   ]
  },
  {
   "cell_type": "code",
   "execution_count": 17,
   "metadata": {
    "collapsed": true
   },
   "outputs": [],
   "source": [
    "cat_cols=cat_cols[:-1]"
   ]
  },
  {
   "cell_type": "code",
   "execution_count": 18,
   "metadata": {},
   "outputs": [
    {
     "data": {
      "text/plain": [
       "Index(['Loan.Length', 'Loan.Purpose', 'State', 'Home.Ownership'], dtype='object')"
      ]
     },
     "execution_count": 18,
     "metadata": {},
     "output_type": "execute_result"
    }
   ],
   "source": [
    "cat_cols"
   ]
  },
  {
   "cell_type": "code",
   "execution_count": 19,
   "metadata": {},
   "outputs": [
    {
     "name": "stdout",
     "output_type": "stream",
     "text": [
      "Loan.Length\n",
      "Loan.Purpose\n",
      "State\n",
      "Home.Ownership\n"
     ]
    }
   ],
   "source": [
    "# you can use following method if you want to ignore categories with too low frequencies ,\n",
    "#in next section for logistic regression we will be using  pandas' get dummies function. \n",
    "# you can work with either of these . \n",
    "#ignoring categories with low frequencies however will result in fewer columns without \n",
    "# affecting model performance too much .\n",
    "\n",
    "for col in cat_cols:\n",
    "    freqs=ld_all[col].value_counts()\n",
    "    k=freqs.index[freqs>20][:-1]\n",
    "    for cat in k:\n",
    "        name=col+'_'+cat\n",
    "        ld_all[name]=(ld_all[col]==cat).astype(int)\n",
    "    del ld_all[col]\n",
    "    print(col)\n",
    "    \n",
    "    "
   ]
  },
  {
   "cell_type": "code",
   "execution_count": 20,
   "metadata": {},
   "outputs": [
    {
     "data": {
      "text/plain": [
       "(2500, 51)"
      ]
     },
     "execution_count": 20,
     "metadata": {},
     "output_type": "execute_result"
    }
   ],
   "source": [
    "ld_all.shape"
   ]
  },
  {
   "cell_type": "code",
   "execution_count": 21,
   "metadata": {},
   "outputs": [
    {
     "data": {
      "text/plain": [
       "Amount.Requested                     5\n",
       "Interest.Rate                      300\n",
       "Debt.To.Income.Ratio                 1\n",
       "Monthly.Income                       3\n",
       "Open.CREDIT.Lines                    9\n",
       "Revolving.CREDIT.Balance             5\n",
       "Inquiries.in.the.Last.6.Months       3\n",
       "Employment.Length                   80\n",
       "data                                 0\n",
       "fico                                 0\n",
       "Loan.Length_36 months                0\n",
       "Loan.Purpose_debt_consolidation      0\n",
       "Loan.Purpose_credit_card             0\n",
       "Loan.Purpose_other                   0\n",
       "Loan.Purpose_home_improvement        0\n",
       "Loan.Purpose_major_purchase          0\n",
       "Loan.Purpose_small_business          0\n",
       "Loan.Purpose_car                     0\n",
       "Loan.Purpose_wedding                 0\n",
       "Loan.Purpose_medical                 0\n",
       "Loan.Purpose_moving                  0\n",
       "State_CA                             0\n",
       "State_NY                             0\n",
       "State_TX                             0\n",
       "State_FL                             0\n",
       "State_IL                             0\n",
       "State_GA                             0\n",
       "State_PA                             0\n",
       "State_NJ                             0\n",
       "State_VA                             0\n",
       "State_MA                             0\n",
       "State_OH                             0\n",
       "State_MD                             0\n",
       "State_NC                             0\n",
       "State_CO                             0\n",
       "State_WA                             0\n",
       "State_CT                             0\n",
       "State_AZ                             0\n",
       "State_MI                             0\n",
       "State_MN                             0\n",
       "State_AL                             0\n",
       "State_MO                             0\n",
       "State_NV                             0\n",
       "State_OR                             0\n",
       "State_SC                             0\n",
       "State_WI                             0\n",
       "State_KY                             0\n",
       "State_LA                             0\n",
       "State_OK                             0\n",
       "Home.Ownership_MORTGAGE              0\n",
       "Home.Ownership_RENT                  0\n",
       "dtype: int64"
      ]
     },
     "execution_count": 21,
     "metadata": {},
     "output_type": "execute_result"
    }
   ],
   "source": [
    "ld_all.isnull().sum()"
   ]
  },
  {
   "cell_type": "code",
   "execution_count": 22,
   "metadata": {
    "collapsed": true
   },
   "outputs": [],
   "source": [
    "for col in ld_all.columns:\n",
    "    if (col not in ['Interest.Rate','data'])& (ld_all[col].isnull().sum()>0):\n",
    "        ld_all.loc[ld_all[col].isnull(),col]=ld_all.loc[ld_all['data']=='train',col].mean()"
   ]
  },
  {
   "cell_type": "code",
   "execution_count": 23,
   "metadata": {},
   "outputs": [
    {
     "data": {
      "text/plain": [
       "Amount.Requested                     0\n",
       "Interest.Rate                      300\n",
       "Debt.To.Income.Ratio                 0\n",
       "Monthly.Income                       0\n",
       "Open.CREDIT.Lines                    0\n",
       "Revolving.CREDIT.Balance             0\n",
       "Inquiries.in.the.Last.6.Months       0\n",
       "Employment.Length                    0\n",
       "data                                 0\n",
       "fico                                 0\n",
       "Loan.Length_36 months                0\n",
       "Loan.Purpose_debt_consolidation      0\n",
       "Loan.Purpose_credit_card             0\n",
       "Loan.Purpose_other                   0\n",
       "Loan.Purpose_home_improvement        0\n",
       "Loan.Purpose_major_purchase          0\n",
       "Loan.Purpose_small_business          0\n",
       "Loan.Purpose_car                     0\n",
       "Loan.Purpose_wedding                 0\n",
       "Loan.Purpose_medical                 0\n",
       "Loan.Purpose_moving                  0\n",
       "State_CA                             0\n",
       "State_NY                             0\n",
       "State_TX                             0\n",
       "State_FL                             0\n",
       "State_IL                             0\n",
       "State_GA                             0\n",
       "State_PA                             0\n",
       "State_NJ                             0\n",
       "State_VA                             0\n",
       "State_MA                             0\n",
       "State_OH                             0\n",
       "State_MD                             0\n",
       "State_NC                             0\n",
       "State_CO                             0\n",
       "State_WA                             0\n",
       "State_CT                             0\n",
       "State_AZ                             0\n",
       "State_MI                             0\n",
       "State_MN                             0\n",
       "State_AL                             0\n",
       "State_MO                             0\n",
       "State_NV                             0\n",
       "State_OR                             0\n",
       "State_SC                             0\n",
       "State_WI                             0\n",
       "State_KY                             0\n",
       "State_LA                             0\n",
       "State_OK                             0\n",
       "Home.Ownership_MORTGAGE              0\n",
       "Home.Ownership_RENT                  0\n",
       "dtype: int64"
      ]
     },
     "execution_count": 23,
     "metadata": {},
     "output_type": "execute_result"
    }
   ],
   "source": [
    "ld_all.isnull().sum()"
   ]
  },
  {
   "cell_type": "code",
   "execution_count": 24,
   "metadata": {},
   "outputs": [
    {
     "name": "stderr",
     "output_type": "stream",
     "text": [
      "/Users/lalitsachan/anaconda/lib/python3.5/site-packages/ipykernel/__main__.py:4: SettingWithCopyWarning: \n",
      "A value is trying to be set on a copy of a slice from a DataFrame\n",
      "\n",
      "See the caveats in the documentation: http://pandas.pydata.org/pandas-docs/stable/indexing.html#indexing-view-versus-copy\n"
     ]
    }
   ],
   "source": [
    "ld_train=ld_all[ld_all['data']=='train']\n",
    "del ld_train['data']\n",
    "ld_test=ld_all[ld_all['data']=='test']\n",
    "ld_test.drop(['Interest.Rate','data'],axis=1,inplace=True)"
   ]
  },
  {
   "cell_type": "code",
   "execution_count": 25,
   "metadata": {
    "collapsed": true
   },
   "outputs": [],
   "source": [
    "del ld_all"
   ]
  },
  {
   "cell_type": "code",
   "execution_count": 26,
   "metadata": {
    "collapsed": true
   },
   "outputs": [],
   "source": [
    "from sklearn.model_selection import train_test_split"
   ]
  },
  {
   "cell_type": "code",
   "execution_count": 27,
   "metadata": {
    "collapsed": true
   },
   "outputs": [],
   "source": [
    "ld_train1,ld_train2=train_test_split(ld_train,test_size=0.2,random_state=2)"
   ]
  },
  {
   "cell_type": "code",
   "execution_count": 28,
   "metadata": {
    "collapsed": true
   },
   "outputs": [],
   "source": [
    "# Notice that only train data is used for imputing missing values in both train and test \n",
    "\n",
    "x_train1=ld_train1.drop('Interest.Rate',axis=1)\n",
    "y_train1=ld_train1['Interest.Rate']\n",
    "\n"
   ]
  },
  {
   "cell_type": "code",
   "execution_count": 29,
   "metadata": {
    "collapsed": true
   },
   "outputs": [],
   "source": [
    "from sklearn.linear_model import LinearRegression"
   ]
  },
  {
   "cell_type": "code",
   "execution_count": 30,
   "metadata": {
    "collapsed": true
   },
   "outputs": [],
   "source": [
    "lm=LinearRegression()"
   ]
  },
  {
   "cell_type": "code",
   "execution_count": 31,
   "metadata": {},
   "outputs": [
    {
     "data": {
      "text/plain": [
       "LinearRegression(copy_X=True, fit_intercept=True, n_jobs=1, normalize=False)"
      ]
     },
     "execution_count": 31,
     "metadata": {},
     "output_type": "execute_result"
    }
   ],
   "source": [
    "lm.fit(x_train1,y_train1)"
   ]
  },
  {
   "cell_type": "code",
   "execution_count": 32,
   "metadata": {},
   "outputs": [
    {
     "data": {
      "text/plain": [
       "(1760, 49)"
      ]
     },
     "execution_count": 32,
     "metadata": {},
     "output_type": "execute_result"
    }
   ],
   "source": [
    "x_train1.shape"
   ]
  },
  {
   "cell_type": "code",
   "execution_count": 33,
   "metadata": {},
   "outputs": [
    {
     "data": {
      "text/plain": [
       "76.01913622059935"
      ]
     },
     "execution_count": 33,
     "metadata": {},
     "output_type": "execute_result"
    }
   ],
   "source": [
    "lm.intercept_"
   ]
  },
  {
   "cell_type": "code",
   "execution_count": 34,
   "metadata": {},
   "outputs": [
    {
     "data": {
      "text/plain": [
       "[('Amount.Requested', 0.0001561443101214522),\n",
       " ('Debt.To.Income.Ratio', -0.0038442407742391442),\n",
       " ('Monthly.Income', -2.640648611027354e-05),\n",
       " ('Open.CREDIT.Lines', -0.04022799798363473),\n",
       " ('Revolving.CREDIT.Balance', -4.043165672706905e-06),\n",
       " ('Inquiries.in.the.Last.6.Months', 0.3367613029564579),\n",
       " ('Employment.Length', 0.034733883022123546),\n",
       " ('fico', -0.08669304194245131),\n",
       " ('Loan.Length_36 months', -3.142554743125374),\n",
       " ('Loan.Purpose_debt_consolidation', -0.4713597523618267),\n",
       " ('Loan.Purpose_credit_card', -0.6123429134596106),\n",
       " ('Loan.Purpose_other', 0.4462609811879843),\n",
       " ('Loan.Purpose_home_improvement', -0.36998297809737407),\n",
       " ('Loan.Purpose_major_purchase', -0.0974511983723586),\n",
       " ('Loan.Purpose_small_business', 0.06251542143811359),\n",
       " ('Loan.Purpose_car', 0.018748914316902787),\n",
       " ('Loan.Purpose_wedding', -0.783052054003571),\n",
       " ('Loan.Purpose_medical', -0.42214589469286945),\n",
       " ('Loan.Purpose_moving', 1.2768888222135193),\n",
       " ('State_CA', -0.29120816865191756),\n",
       " ('State_NY', -0.20784181354586054),\n",
       " ('State_TX', 0.384109173146529),\n",
       " ('State_FL', 0.004847904465574763),\n",
       " ('State_IL', -0.7285946512366279),\n",
       " ('State_GA', -0.1094949687762515),\n",
       " ('State_PA', -0.6344637679429544),\n",
       " ('State_NJ', -0.5044859736086524),\n",
       " ('State_VA', -0.270412445008685),\n",
       " ('State_MA', 0.010510217191506438),\n",
       " ('State_OH', -0.4428402101320407),\n",
       " ('State_MD', -0.0985943511484861),\n",
       " ('State_NC', -0.3804224871913901),\n",
       " ('State_CO', -0.1374316184376892),\n",
       " ('State_WA', -0.3262836407296927),\n",
       " ('State_CT', 0.36543721069965374),\n",
       " ('State_AZ', 0.18311333972876961),\n",
       " ('State_MI', -0.23936223962117345),\n",
       " ('State_MN', -0.15863702477325778),\n",
       " ('State_AL', -0.4030947504696174),\n",
       " ('State_MO', -0.514232194958213),\n",
       " ('State_NV', -0.20517727901177138),\n",
       " ('State_OR', 0.039027713793426885),\n",
       " ('State_SC', -0.058336173623127055),\n",
       " ('State_WI', -0.24512064234535724),\n",
       " ('State_KY', 0.1870542052743355),\n",
       " ('State_LA', -0.13009840467168493),\n",
       " ('State_OK', -0.4192125633226803),\n",
       " ('Home.Ownership_MORTGAGE', -0.49168102215384873),\n",
       " ('Home.Ownership_RENT', -0.2321751850434306)]"
      ]
     },
     "execution_count": 34,
     "metadata": {},
     "output_type": "execute_result"
    }
   ],
   "source": [
    "list(zip(x_train1.columns,lm.coef_))"
   ]
  },
  {
   "cell_type": "code",
   "execution_count": 35,
   "metadata": {
    "collapsed": true
   },
   "outputs": [],
   "source": [
    "x_train2=ld_train2.drop('Interest.Rate',axis=1)"
   ]
  },
  {
   "cell_type": "code",
   "execution_count": 36,
   "metadata": {
    "collapsed": true
   },
   "outputs": [],
   "source": [
    "predicted_ir=lm.predict(x_train2)"
   ]
  },
  {
   "cell_type": "code",
   "execution_count": 38,
   "metadata": {
    "collapsed": true
   },
   "outputs": [],
   "source": [
    "from sklearn.metrics import mean_absolute_error"
   ]
  },
  {
   "cell_type": "code",
   "execution_count": 39,
   "metadata": {},
   "outputs": [
    {
     "data": {
      "text/plain": [
       "1.6292292194613134"
      ]
     },
     "execution_count": 39,
     "metadata": {},
     "output_type": "execute_result"
    }
   ],
   "source": [
    "mean_absolute_error(ld_train2['Interest.Rate'],predicted_ir)"
   ]
  },
  {
   "cell_type": "markdown",
   "metadata": {},
   "source": [
    "We know the tentative performance now, lets build the model on entire training to make prediction on test/production"
   ]
  },
  {
   "cell_type": "code",
   "execution_count": 40,
   "metadata": {
    "collapsed": true
   },
   "outputs": [],
   "source": [
    "x_train=ld_train.drop('Interest.Rate',axis=1)\n",
    "y_train=ld_train['Interest.Rate']"
   ]
  },
  {
   "cell_type": "code",
   "execution_count": 41,
   "metadata": {},
   "outputs": [
    {
     "data": {
      "text/plain": [
       "LinearRegression(copy_X=True, fit_intercept=True, n_jobs=1, normalize=False)"
      ]
     },
     "execution_count": 41,
     "metadata": {},
     "output_type": "execute_result"
    }
   ],
   "source": [
    "lm.fit(x_train,y_train)"
   ]
  },
  {
   "cell_type": "code",
   "execution_count": 42,
   "metadata": {
    "collapsed": true
   },
   "outputs": [],
   "source": [
    "test_pred=lm.predict(ld_test)"
   ]
  },
  {
   "cell_type": "markdown",
   "metadata": {},
   "source": [
    "We can write these to a csv file for submission like this :"
   ]
  },
  {
   "cell_type": "code",
   "execution_count": 43,
   "metadata": {
    "collapsed": true
   },
   "outputs": [],
   "source": [
    "pd.DataFrame(test_pred).to_csv(\"mysubmission.csv\",index=False)"
   ]
  },
  {
   "cell_type": "markdown",
   "metadata": {},
   "source": [
    "# Ridge  Regression"
   ]
  },
  {
   "cell_type": "code",
   "execution_count": 44,
   "metadata": {
    "collapsed": true
   },
   "outputs": [],
   "source": [
    "from sklearn.linear_model import Ridge,Lasso\n",
    "from sklearn.model_selection import GridSearchCV"
   ]
  },
  {
   "cell_type": "code",
   "execution_count": 51,
   "metadata": {
    "collapsed": true
   },
   "outputs": [],
   "source": [
    "lambdas=np.linspace(1,100,100)"
   ]
  },
  {
   "cell_type": "code",
   "execution_count": 52,
   "metadata": {
    "collapsed": true
   },
   "outputs": [],
   "source": [
    "params={'alpha':lambdas}"
   ]
  },
  {
   "cell_type": "code",
   "execution_count": 53,
   "metadata": {
    "collapsed": true
   },
   "outputs": [],
   "source": [
    "model=Ridge(fit_intercept=True)"
   ]
  },
  {
   "cell_type": "code",
   "execution_count": 54,
   "metadata": {
    "collapsed": true
   },
   "outputs": [],
   "source": [
    "grid_search=GridSearchCV(model,param_grid=params,cv=10,scoring='neg_mean_absolute_error')"
   ]
  },
  {
   "cell_type": "code",
   "execution_count": 55,
   "metadata": {},
   "outputs": [
    {
     "data": {
      "text/plain": [
       "GridSearchCV(cv=10, error_score='raise',\n",
       "       estimator=Ridge(alpha=1.0, copy_X=True, fit_intercept=True, max_iter=None,\n",
       "   normalize=False, random_state=None, solver='auto', tol=0.001),\n",
       "       fit_params={}, iid=True, n_jobs=1,\n",
       "       param_grid={'alpha': array([  1.,   2., ...,  99., 100.])},\n",
       "       pre_dispatch='2*n_jobs', refit=True, return_train_score=True,\n",
       "       scoring='neg_mean_absolute_error', verbose=0)"
      ]
     },
     "execution_count": 55,
     "metadata": {},
     "output_type": "execute_result"
    }
   ],
   "source": [
    "grid_search.fit(x_train,y_train)"
   ]
  },
  {
   "cell_type": "code",
   "execution_count": 56,
   "metadata": {},
   "outputs": [
    {
     "data": {
      "text/plain": [
       "Ridge(alpha=33.0, copy_X=True, fit_intercept=True, max_iter=None,\n",
       "   normalize=False, random_state=None, solver='auto', tol=0.001)"
      ]
     },
     "execution_count": 56,
     "metadata": {},
     "output_type": "execute_result"
    }
   ],
   "source": [
    "grid_search.best_estimator_"
   ]
  },
  {
   "cell_type": "code",
   "execution_count": 57,
   "metadata": {},
   "outputs": [
    {
     "data": {
      "text/plain": [
       "{'mean_fit_time': array([0.00389659, 0.00395305, 0.00310287, 0.0030133 , 0.00309932,\n",
       "        0.00332463, 0.00355682, 0.00349162, 0.00323839, 0.0030251 ,\n",
       "        0.00351861, 0.00344155, 0.00338409, 0.0030823 , 0.00339909,\n",
       "        0.0031862 , 0.00307519, 0.00308654, 0.00304551, 0.00301292,\n",
       "        0.0032419 , 0.00310199, 0.00297008, 0.00308199, 0.003023  ,\n",
       "        0.00304036, 0.00302777, 0.00302324, 0.00306087, 0.00295475,\n",
       "        0.00313795, 0.00298152, 0.00303519, 0.00305512, 0.00308578,\n",
       "        0.00300488, 0.0029736 , 0.00320232, 0.00296652, 0.00305943,\n",
       "        0.00308428, 0.00308681, 0.00298681, 0.00303648, 0.00305386,\n",
       "        0.00300529, 0.00298433, 0.0030514 , 0.00298011, 0.00306842,\n",
       "        0.00307872, 0.00315561, 0.00297823, 0.00311236, 0.00300117,\n",
       "        0.00308599, 0.0030175 , 0.003227  , 0.00302949, 0.00301442,\n",
       "        0.00313618, 0.0030612 , 0.00326853, 0.0031441 , 0.00309083,\n",
       "        0.00312407, 0.0029968 , 0.00303121, 0.00298779, 0.0030575 ,\n",
       "        0.00307798, 0.00306947, 0.00302055, 0.00301416, 0.00316749,\n",
       "        0.0030745 , 0.00303855, 0.00349193, 0.00299532, 0.00305719,\n",
       "        0.00308282, 0.00299995, 0.00304887, 0.00312445, 0.00295308,\n",
       "        0.003039  , 0.00303719, 0.00309393, 0.0031225 , 0.00302649,\n",
       "        0.00313332, 0.00309031, 0.0029686 , 0.00303659, 0.00300202,\n",
       "        0.00302718, 0.00296197, 0.00311387, 0.00299039, 0.00307243]),\n",
       " 'mean_score_time': array([0.00055227, 0.00065448, 0.00052879, 0.0004755 , 0.00048788,\n",
       "        0.00052388, 0.00059774, 0.00053186, 0.00044272, 0.00045359,\n",
       "        0.00058951, 0.00053039, 0.00047898, 0.00046444, 0.00049925,\n",
       "        0.00048521, 0.00049233, 0.00048501, 0.00043638, 0.00047719,\n",
       "        0.00050311, 0.00044267, 0.00046544, 0.00044167, 0.00044873,\n",
       "        0.00044587, 0.00044694, 0.000453  , 0.00045772, 0.0005255 ,\n",
       "        0.000458  , 0.00046332, 0.00045853, 0.00046303, 0.00044091,\n",
       "        0.00045772, 0.00044229, 0.00045633, 0.00046034, 0.00044041,\n",
       "        0.00049272, 0.00043812, 0.0004576 , 0.0004529 , 0.00044217,\n",
       "        0.00047402, 0.00046368, 0.00046952, 0.00045009, 0.00046213,\n",
       "        0.00050521, 0.00047777, 0.00045459, 0.00047092, 0.00044682,\n",
       "        0.00044653, 0.00043263, 0.00047636, 0.00046573, 0.0004844 ,\n",
       "        0.00045073, 0.00045969, 0.00050032, 0.00047524, 0.0004704 ,\n",
       "        0.0004333 , 0.00045176, 0.0004591 , 0.00043623, 0.00046008,\n",
       "        0.00045593, 0.00044119, 0.00046463, 0.00053768, 0.00048316,\n",
       "        0.00047898, 0.00048463, 0.00052526, 0.00044391, 0.00044866,\n",
       "        0.0004494 , 0.00043046, 0.00044982, 0.00044255, 0.00046639,\n",
       "        0.00044723, 0.00045254, 0.00048809, 0.00047972, 0.00044489,\n",
       "        0.00047295, 0.00044448, 0.00046709, 0.00044923, 0.00045309,\n",
       "        0.00045793, 0.00044646, 0.00047936, 0.00043421, 0.00044429]),\n",
       " 'mean_test_score': array([-1.61864413, -1.61765037, -1.6167599 , -1.61601248, -1.61535593,\n",
       "        -1.61474943, -1.61419269, -1.61376752, -1.61337698, -1.61302334,\n",
       "        -1.61271426, -1.61244035, -1.61218609, -1.61196081, -1.61175892,\n",
       "        -1.61156874, -1.61138937, -1.61122704, -1.61108728, -1.61095818,\n",
       "        -1.61084168, -1.61074227, -1.61065368, -1.61057619, -1.61050457,\n",
       "        -1.61044597, -1.61039376, -1.61034743, -1.61031303, -1.61028634,\n",
       "        -1.61026499, -1.61024752, -1.61023989, -1.61024467, -1.61026003,\n",
       "        -1.61028339, -1.61031134, -1.61034609, -1.61038441, -1.61042807,\n",
       "        -1.61048771, -1.6105594 , -1.61064109, -1.61073144, -1.61083371,\n",
       "        -1.61095586, -1.61108294, -1.61121821, -1.61135684, -1.61149896,\n",
       "        -1.61164322, -1.61179114, -1.61194123, -1.61210515, -1.6122712 ,\n",
       "        -1.61244292, -1.61261871, -1.61280215, -1.61298601, -1.61317264,\n",
       "        -1.61336283, -1.61355718, -1.6137556 , -1.61396437, -1.61418731,\n",
       "        -1.61441758, -1.61464979, -1.61488113, -1.61511567, -1.61535289,\n",
       "        -1.61559724, -1.61584058, -1.6160911 , -1.61634459, -1.61660297,\n",
       "        -1.61686126, -1.61711965, -1.61738178, -1.61764284, -1.61790616,\n",
       "        -1.61817309, -1.61844201, -1.61871353, -1.61898715, -1.61925952,\n",
       "        -1.61953647, -1.61982043, -1.62010692, -1.62039282, -1.62068261,\n",
       "        -1.62097621, -1.62126941, -1.62156335, -1.62185953, -1.62215638,\n",
       "        -1.62245474, -1.62275196, -1.62304766, -1.6233424 , -1.62363982]),\n",
       " 'mean_train_score': array([-1.57646234, -1.57651645, -1.57659045, -1.5766691 , -1.57676558,\n",
       "        -1.57687316, -1.57698439, -1.57710308, -1.57722632, -1.5773577 ,\n",
       "        -1.57750234, -1.5776512 , -1.5778034 , -1.57796144, -1.57812252,\n",
       "        -1.57828751, -1.57845648, -1.57862984, -1.57880942, -1.57899388,\n",
       "        -1.57918118, -1.57937093, -1.57956315, -1.57975919, -1.57995791,\n",
       "        -1.58015822, -1.58036179, -1.58057004, -1.58078064, -1.58099386,\n",
       "        -1.58120978, -1.58143173, -1.58165707, -1.58188463, -1.58211727,\n",
       "        -1.58235359, -1.5825929 , -1.5828346 , -1.58307916, -1.58332904,\n",
       "        -1.58358548, -1.58384625, -1.58410779, -1.5843706 , -1.58463636,\n",
       "        -1.58490563, -1.58517579, -1.58545072, -1.58572986, -1.58601196,\n",
       "        -1.58629619, -1.58658301, -1.58687176, -1.58716279, -1.58745507,\n",
       "        -1.58774875, -1.5880436 , -1.58833996, -1.58863696, -1.58893616,\n",
       "        -1.58924074, -1.58954747, -1.58985667, -1.59017065, -1.59048729,\n",
       "        -1.59080388, -1.59112245, -1.59144376, -1.59176808, -1.59209598,\n",
       "        -1.59242442, -1.59275477, -1.59308786, -1.59342497, -1.59376333,\n",
       "        -1.59410217, -1.59444223, -1.59478571, -1.59512937, -1.59547271,\n",
       "        -1.59581673, -1.59616248, -1.59650892, -1.59685525, -1.59720162,\n",
       "        -1.59754787, -1.59789413, -1.5982399 , -1.5985867 , -1.59893391,\n",
       "        -1.59928189, -1.59962975, -1.59997762, -1.6003246 , -1.60067178,\n",
       "        -1.60101894, -1.60136647, -1.60171425, -1.60206467, -1.60241515]),\n",
       " 'param_alpha': masked_array(data=[1.0, 2.0, 3.0, 4.0, 5.0, 6.0, 7.0, 8.0, 9.0, 10.0,\n",
       "                    11.0, 12.0, 13.0, 14.0, 15.0, 16.0, 17.0, 18.0, 19.0,\n",
       "                    20.0, 21.0, 22.0, 23.0, 24.0, 25.0, 26.0, 27.0, 28.0,\n",
       "                    29.0, 30.0, 31.0, 32.0, 33.0, 34.0, 35.0, 36.0, 37.0,\n",
       "                    38.0, 39.0, 40.0, 41.0, 42.0, 43.0, 44.0, 45.0, 46.0,\n",
       "                    47.0, 48.0, 49.0, 50.0, 51.0, 52.0, 53.0, 54.0, 55.0,\n",
       "                    56.0, 57.0, 58.0, 59.0, 60.0, 61.0, 62.0, 63.0, 64.0,\n",
       "                    65.0, 66.0, 67.0, 68.0, 69.0, 70.0, 71.0, 72.0, 73.0,\n",
       "                    74.0, 75.0, 76.0, 77.0, 78.0, 79.0, 80.0, 81.0, 82.0,\n",
       "                    83.0, 84.0, 85.0, 86.0, 87.0, 88.0, 89.0, 90.0, 91.0,\n",
       "                    92.0, 93.0, 94.0, 95.0, 96.0, 97.0, 98.0, 99.0, 100.0],\n",
       "              mask=[False, False, False, False, False, False, False, False,\n",
       "                    False, False, False, False, False, False, False, False,\n",
       "                    False, False, False, False, False, False, False, False,\n",
       "                    False, False, False, False, False, False, False, False,\n",
       "                    False, False, False, False, False, False, False, False,\n",
       "                    False, False, False, False, False, False, False, False,\n",
       "                    False, False, False, False, False, False, False, False,\n",
       "                    False, False, False, False, False, False, False, False,\n",
       "                    False, False, False, False, False, False, False, False,\n",
       "                    False, False, False, False, False, False, False, False,\n",
       "                    False, False, False, False, False, False, False, False,\n",
       "                    False, False, False, False, False, False, False, False,\n",
       "                    False, False, False, False],\n",
       "        fill_value='?',\n",
       "             dtype=object),\n",
       " 'params': ({'alpha': 1.0},\n",
       "  {'alpha': 2.0},\n",
       "  {'alpha': 3.0},\n",
       "  {'alpha': 4.0},\n",
       "  {'alpha': 5.0},\n",
       "  {'alpha': 6.0},\n",
       "  {'alpha': 7.0},\n",
       "  {'alpha': 8.0},\n",
       "  {'alpha': 9.0},\n",
       "  {'alpha': 10.0},\n",
       "  {'alpha': 11.0},\n",
       "  {'alpha': 12.0},\n",
       "  {'alpha': 13.0},\n",
       "  {'alpha': 14.0},\n",
       "  {'alpha': 15.0},\n",
       "  {'alpha': 16.0},\n",
       "  {'alpha': 17.0},\n",
       "  {'alpha': 18.0},\n",
       "  {'alpha': 19.0},\n",
       "  {'alpha': 20.0},\n",
       "  {'alpha': 21.0},\n",
       "  {'alpha': 22.0},\n",
       "  {'alpha': 23.0},\n",
       "  {'alpha': 24.0},\n",
       "  {'alpha': 25.0},\n",
       "  {'alpha': 26.0},\n",
       "  {'alpha': 27.0},\n",
       "  {'alpha': 28.0},\n",
       "  {'alpha': 29.0},\n",
       "  {'alpha': 30.0},\n",
       "  {'alpha': 31.0},\n",
       "  {'alpha': 32.0},\n",
       "  {'alpha': 33.0},\n",
       "  {'alpha': 34.0},\n",
       "  {'alpha': 35.0},\n",
       "  {'alpha': 36.0},\n",
       "  {'alpha': 37.0},\n",
       "  {'alpha': 38.0},\n",
       "  {'alpha': 39.0},\n",
       "  {'alpha': 40.0},\n",
       "  {'alpha': 41.0},\n",
       "  {'alpha': 42.0},\n",
       "  {'alpha': 43.0},\n",
       "  {'alpha': 44.0},\n",
       "  {'alpha': 45.0},\n",
       "  {'alpha': 46.0},\n",
       "  {'alpha': 47.0},\n",
       "  {'alpha': 48.0},\n",
       "  {'alpha': 49.0},\n",
       "  {'alpha': 50.0},\n",
       "  {'alpha': 51.0},\n",
       "  {'alpha': 52.0},\n",
       "  {'alpha': 53.0},\n",
       "  {'alpha': 54.0},\n",
       "  {'alpha': 55.0},\n",
       "  {'alpha': 56.0},\n",
       "  {'alpha': 57.0},\n",
       "  {'alpha': 58.0},\n",
       "  {'alpha': 59.0},\n",
       "  {'alpha': 60.0},\n",
       "  {'alpha': 61.0},\n",
       "  {'alpha': 62.0},\n",
       "  {'alpha': 63.0},\n",
       "  {'alpha': 64.0},\n",
       "  {'alpha': 65.0},\n",
       "  {'alpha': 66.0},\n",
       "  {'alpha': 67.0},\n",
       "  {'alpha': 68.0},\n",
       "  {'alpha': 69.0},\n",
       "  {'alpha': 70.0},\n",
       "  {'alpha': 71.0},\n",
       "  {'alpha': 72.0},\n",
       "  {'alpha': 73.0},\n",
       "  {'alpha': 74.0},\n",
       "  {'alpha': 75.0},\n",
       "  {'alpha': 76.0},\n",
       "  {'alpha': 77.0},\n",
       "  {'alpha': 78.0},\n",
       "  {'alpha': 79.0},\n",
       "  {'alpha': 80.0},\n",
       "  {'alpha': 81.0},\n",
       "  {'alpha': 82.0},\n",
       "  {'alpha': 83.0},\n",
       "  {'alpha': 84.0},\n",
       "  {'alpha': 85.0},\n",
       "  {'alpha': 86.0},\n",
       "  {'alpha': 87.0},\n",
       "  {'alpha': 88.0},\n",
       "  {'alpha': 89.0},\n",
       "  {'alpha': 90.0},\n",
       "  {'alpha': 91.0},\n",
       "  {'alpha': 92.0},\n",
       "  {'alpha': 93.0},\n",
       "  {'alpha': 94.0},\n",
       "  {'alpha': 95.0},\n",
       "  {'alpha': 96.0},\n",
       "  {'alpha': 97.0},\n",
       "  {'alpha': 98.0},\n",
       "  {'alpha': 99.0},\n",
       "  {'alpha': 100.0}),\n",
       " 'rank_test_score': array([ 82,  78,  73,  69,  66,  62,  59,  56,  53,  50,  47,  44,  42,\n",
       "         40,  37,  35,  33,  31,  29,  27,  25,  23,  21,  19,  17,  15,\n",
       "         13,  11,   9,   7,   5,   3,   1,   2,   4,   6,   8,  10,  12,\n",
       "         14,  16,  18,  20,  22,  24,  26,  28,  30,  32,  34,  36,  38,\n",
       "         39,  41,  43,  45,  46,  48,  49,  51,  52,  54,  55,  57,  58,\n",
       "         60,  61,  63,  64,  65,  67,  68,  70,  71,  72,  74,  75,  76,\n",
       "         77,  79,  80,  81,  83,  84,  85,  86,  87,  88,  89,  90,  91,\n",
       "         92,  93,  94,  95,  96,  97,  98,  99, 100], dtype=int32),\n",
       " 'split0_test_score': array([-1.72253875, -1.72334901, -1.72413461, -1.72487488, -1.72555884,\n",
       "        -1.72619876, -1.72680296, -1.72739264, -1.72799979, -1.72860761,\n",
       "        -1.72924003, -1.72986019, -1.73046393, -1.73105275, -1.73162788,\n",
       "        -1.73219041, -1.73274126, -1.73328123, -1.73381104, -1.73433129,\n",
       "        -1.73484256, -1.73534533, -1.73584005, -1.73632711, -1.7368069 ,\n",
       "        -1.73727973, -1.73774592, -1.73820573, -1.73865943, -1.73910726,\n",
       "        -1.73954942, -1.73998613, -1.74045126, -1.7409615 , -1.74151634,\n",
       "        -1.74206533, -1.74260866, -1.74314646, -1.74367889, -1.74423658,\n",
       "        -1.74490884, -1.74559775, -1.74628059, -1.74695747, -1.74762852,\n",
       "        -1.74829384, -1.74895355, -1.74963028, -1.75030137, -1.75096685,\n",
       "        -1.7516268 , -1.75228134, -1.75294321, -1.75361999, -1.75429091,\n",
       "        -1.75495607, -1.75561557, -1.75626952, -1.75691802, -1.75756116,\n",
       "        -1.75819904, -1.75883174, -1.75945935, -1.76008195, -1.76069963,\n",
       "        -1.76135125, -1.76199821, -1.76264021, -1.76328149, -1.76393606,\n",
       "        -1.7645857 , -1.76523048, -1.76587048, -1.76650575, -1.76713638,\n",
       "        -1.76777118, -1.76841472, -1.7690536 , -1.76968788, -1.77031762,\n",
       "        -1.77094289, -1.77156375, -1.77218025, -1.77279245, -1.7734004 ,\n",
       "        -1.77400417, -1.77460381, -1.77519936, -1.77579088, -1.77637841,\n",
       "        -1.77696202, -1.77754174, -1.77811762, -1.7786897 , -1.77925804,\n",
       "        -1.77982268, -1.78038366, -1.78094102, -1.7814948 , -1.78204505]),\n",
       " 'split0_train_score': array([-1.56416226, -1.56412802, -1.56411113, -1.56408899, -1.5641124 ,\n",
       "        -1.56416937, -1.5642298 , -1.56429082, -1.56435696, -1.5644232 ,\n",
       "        -1.56450104, -1.56458588, -1.56468309, -1.5647901 , -1.56490216,\n",
       "        -1.56503425, -1.56517676, -1.56531889, -1.5654632 , -1.5656074 ,\n",
       "        -1.56575291, -1.56590553, -1.56606169, -1.56622611, -1.56639375,\n",
       "        -1.56655951, -1.56672558, -1.5668995 , -1.56708143, -1.56726569,\n",
       "        -1.56744805, -1.56763787, -1.56783339, -1.56803321, -1.5682312 ,\n",
       "        -1.56843883, -1.5686546 , -1.56887513, -1.56910049, -1.56932793,\n",
       "        -1.56955331, -1.56977665, -1.56999828, -1.57022311, -1.57044777,\n",
       "        -1.57067437, -1.57090076, -1.57113378, -1.57137575, -1.57162199,\n",
       "        -1.57187373, -1.57213182, -1.57238849, -1.572646  , -1.5729084 ,\n",
       "        -1.57317374, -1.57344107, -1.57370626, -1.57397284, -1.57424139,\n",
       "        -1.5745149 , -1.57479142, -1.57507106, -1.57535919, -1.57565404,\n",
       "        -1.5759538 , -1.57626077, -1.57657708, -1.57689786, -1.57721911,\n",
       "        -1.57753803, -1.57785464, -1.5781706 , -1.57848984, -1.5788072 ,\n",
       "        -1.57912233, -1.57943942, -1.57976375, -1.5800877 , -1.58041318,\n",
       "        -1.58073717, -1.58106085, -1.58139288, -1.58172493, -1.58205704,\n",
       "        -1.58238807, -1.58271946, -1.58304892, -1.58337624, -1.58370144,\n",
       "        -1.58402454, -1.58434558, -1.58466457, -1.58498153, -1.58530221,\n",
       "        -1.58562305, -1.58594229, -1.58626205, -1.58659421, -1.5869291 ]),\n",
       " 'split1_test_score': array([-1.7654695 , -1.76254819, -1.75985944, -1.75760418, -1.75562082,\n",
       "        -1.75378061, -1.75201293, -1.75031812, -1.74869452, -1.74719625,\n",
       "        -1.74582755, -1.74451818, -1.74326483, -1.74206429, -1.74091344,\n",
       "        -1.73980935, -1.73874927, -1.73777868, -1.73691135, -1.73610036,\n",
       "        -1.73536048, -1.7346499 , -1.73396695, -1.73331008, -1.73267785,\n",
       "        -1.73206893, -1.73148205, -1.73091605, -1.73036987, -1.72984247,\n",
       "        -1.72933291, -1.72884032, -1.72836385, -1.72790275, -1.7274568 ,\n",
       "        -1.72707513, -1.72670934, -1.72635564, -1.72601349, -1.72568236,\n",
       "        -1.72536178, -1.72505129, -1.72475045, -1.72445886, -1.72417613,\n",
       "        -1.72390189, -1.72363581, -1.72337755, -1.7231268 , -1.72288327,\n",
       "        -1.72264667, -1.72241675, -1.72219325, -1.72197593, -1.72176456,\n",
       "        -1.72155892, -1.72135881, -1.72116403, -1.72097439, -1.7207897 ,\n",
       "        -1.72060981, -1.72043453, -1.72026372, -1.72009723, -1.71994335,\n",
       "        -1.71981361, -1.71968741, -1.71956463, -1.71944516, -1.71932888,\n",
       "        -1.71921568, -1.71910548, -1.71899817, -1.71889366, -1.71879186,\n",
       "        -1.71869269, -1.71859605, -1.71850188, -1.71841009, -1.71832062,\n",
       "        -1.71826736, -1.71821807, -1.7181708 , -1.71812546, -1.718082  ,\n",
       "        -1.71804037, -1.71803622, -1.71806773, -1.71810919, -1.71815175,\n",
       "        -1.71819535, -1.71823996, -1.71828553, -1.71833203, -1.71837943,\n",
       "        -1.71842768, -1.71847675, -1.71852661, -1.71858255, -1.71868105]),\n",
       " 'split1_train_score': array([-1.55848736, -1.55862389, -1.55874508, -1.55883507, -1.55894719,\n",
       "        -1.55906638, -1.5592193 , -1.55936772, -1.55952899, -1.55971833,\n",
       "        -1.55994824, -1.56018224, -1.56041336, -1.5606469 , -1.56087496,\n",
       "        -1.5611017 , -1.56133726, -1.5615828 , -1.56183859, -1.56208927,\n",
       "        -1.56234685, -1.56261448, -1.56289252, -1.56316848, -1.56344266,\n",
       "        -1.56371303, -1.56398375, -1.56425207, -1.56452574, -1.56479578,\n",
       "        -1.5650636 , -1.56533621, -1.5656134 , -1.56589391, -1.56619042,\n",
       "        -1.5664874 , -1.56678109, -1.56707212, -1.56736587, -1.56766221,\n",
       "        -1.56796214, -1.56827139, -1.5685825 , -1.5688914 , -1.56919899,\n",
       "        -1.56950625, -1.56981541, -1.5701257 , -1.57043426, -1.57074002,\n",
       "        -1.57104638, -1.57135396, -1.57167537, -1.57200554, -1.57233876,\n",
       "        -1.57266921, -1.57299711, -1.57332594, -1.57365441, -1.57398669,\n",
       "        -1.57432841, -1.5746766 , -1.5750295 , -1.57538363, -1.57573803,\n",
       "        -1.57609314, -1.57644634, -1.57679991, -1.57716062, -1.57752404,\n",
       "        -1.5778862 , -1.5782488 , -1.57861262, -1.57898255, -1.579358  ,\n",
       "        -1.57973753, -1.58011719, -1.58049404, -1.58086812, -1.58123948,\n",
       "        -1.5816087 , -1.58198863, -1.58236768, -1.58274505, -1.58312614,\n",
       "        -1.58351061, -1.58389244, -1.58427165, -1.5846485 , -1.58502512,\n",
       "        -1.58539986, -1.58577667, -1.58615667, -1.58653537, -1.58691159,\n",
       "        -1.58728536, -1.58766143, -1.58803802, -1.58842062, -1.58880113]),\n",
       " 'split2_test_score': array([-1.77330129, -1.77132736, -1.76955818, -1.76800466, -1.76662231,\n",
       "        -1.76534921, -1.76423207, -1.76390196, -1.76360635, -1.76334008,\n",
       "        -1.76309915, -1.76288041, -1.76268126, -1.76249961, -1.76233367,\n",
       "        -1.76218193, -1.76204313, -1.76191612, -1.76179996, -1.76169377,\n",
       "        -1.7615968 , -1.76150838, -1.76142983, -1.76139326, -1.76136284,\n",
       "        -1.76133815, -1.76131881, -1.76130448, -1.76129484, -1.7612896 ,\n",
       "        -1.76128849, -1.76129128, -1.76129771, -1.7613076 , -1.76132073,\n",
       "        -1.76133693, -1.76135603, -1.76137786, -1.76140228, -1.76142915,\n",
       "        -1.76145834, -1.7615619 , -1.76173634, -1.7619108 , -1.76208522,\n",
       "        -1.76230921, -1.7625647 , -1.7628193 , -1.76307309, -1.76333176,\n",
       "        -1.76358936, -1.76384588, -1.76410129, -1.76435561, -1.76460882,\n",
       "        -1.76486091, -1.76511189, -1.76536174, -1.76561047, -1.76586298,\n",
       "        -1.76613568, -1.7664275 , -1.7667355 , -1.7670444 , -1.76739335,\n",
       "        -1.76776096, -1.76812639, -1.76848965, -1.76885077, -1.76920976,\n",
       "        -1.76956663, -1.76992141, -1.77027411, -1.77064263, -1.77102285,\n",
       "        -1.77140041, -1.77177533, -1.77214766, -1.77251742, -1.77288465,\n",
       "        -1.77324939, -1.77361165, -1.77397149, -1.77432892, -1.77468398,\n",
       "        -1.77503669, -1.77538708, -1.77573519, -1.77608103, -1.77642464,\n",
       "        -1.77676604, -1.77710526, -1.77744232, -1.77777724, -1.77811006,\n",
       "        -1.77844079, -1.77876946, -1.77909609, -1.7794207 , -1.77974331]),\n",
       " 'split2_train_score': array([-1.55663973, -1.55685329, -1.55702129, -1.55718645, -1.5573756 ,\n",
       "        -1.55754522, -1.55769753, -1.55785765, -1.55800209, -1.55814163,\n",
       "        -1.55828529, -1.558423  , -1.55856345, -1.55870638, -1.55884404,\n",
       "        -1.55897661, -1.55911186, -1.55924462, -1.55939362, -1.55955483,\n",
       "        -1.55971361, -1.5598703 , -1.56002839, -1.56018944, -1.56034973,\n",
       "        -1.56051295, -1.56068236, -1.56086076, -1.56103977, -1.56122059,\n",
       "        -1.56140636, -1.56160076, -1.56179359, -1.56198624, -1.56218112,\n",
       "        -1.56237767, -1.56257955, -1.56279337, -1.56301576, -1.56323893,\n",
       "        -1.56346408, -1.56368776, -1.56391763, -1.56414765, -1.56438051,\n",
       "        -1.56462547, -1.56487689, -1.56514195, -1.56541025, -1.56568324,\n",
       "        -1.56595951, -1.56623701, -1.5665161 , -1.56679662, -1.56707461,\n",
       "        -1.56735038, -1.56762744, -1.56790688, -1.56818684, -1.56847583,\n",
       "        -1.56878233, -1.56909297, -1.56940722, -1.56972344, -1.57004339,\n",
       "        -1.57036362, -1.57068214, -1.57100075, -1.5713213 , -1.57164835,\n",
       "        -1.57197774, -1.57231698, -1.57265398, -1.57299327, -1.57333262,\n",
       "        -1.57366967, -1.57401335, -1.5743695 , -1.57472396, -1.57507587,\n",
       "        -1.5754257 , -1.57577696, -1.57612727, -1.57647899, -1.57683238,\n",
       "        -1.57718402, -1.57753602, -1.57788713, -1.5782436 , -1.57859872,\n",
       "        -1.57895289, -1.57931043, -1.57967273, -1.58003912, -1.58040395,\n",
       "        -1.58076762, -1.58113075, -1.58149153, -1.58185412, -1.5822153 ]),\n",
       " 'split3_test_score': array([-1.64257232, -1.64188608, -1.64137536, -1.64123067, -1.64114369,\n",
       "        -1.64106527, -1.64099094, -1.64091412, -1.64083459, -1.64075238,\n",
       "        -1.64066765, -1.64063235, -1.64060874, -1.64058298, -1.64055526,\n",
       "        -1.64052578, -1.6404947 , -1.6404759 , -1.64050422, -1.64053052,\n",
       "        -1.64055491, -1.64057755, -1.64059854, -1.640618  , -1.64063602,\n",
       "        -1.6406527 , -1.64066812, -1.64068236, -1.64069549, -1.64070758,\n",
       "        -1.64071869, -1.64072887, -1.64073818, -1.64075221, -1.64076743,\n",
       "        -1.64078198, -1.64079589, -1.64081098, -1.64083316, -1.64085481,\n",
       "        -1.64087596, -1.64089662, -1.64091683, -1.6409366 , -1.64095594,\n",
       "        -1.64097488, -1.64099343, -1.6410116 , -1.6410386 , -1.64108876,\n",
       "        -1.64113822, -1.641187  , -1.6412351 , -1.64128256, -1.64132937,\n",
       "        -1.64137557, -1.64142116, -1.64146616, -1.64151058, -1.64155444,\n",
       "        -1.64159774, -1.64164051, -1.64168616, -1.64177882, -1.64188075,\n",
       "        -1.64198176, -1.64208185, -1.64218106, -1.64227938, -1.64237683,\n",
       "        -1.64247344, -1.64256921, -1.64266417, -1.64275831, -1.64285167,\n",
       "        -1.64294424, -1.64303605, -1.6431271 , -1.6432174 , -1.64334236,\n",
       "        -1.6434815 , -1.64365065, -1.64381863, -1.64398543, -1.64415105,\n",
       "        -1.64431551, -1.64451128, -1.64471124, -1.64490992, -1.64512682,\n",
       "        -1.6453466 , -1.64556505, -1.6457822 , -1.64599806, -1.64621263,\n",
       "        -1.64642594, -1.64663799, -1.6468488 , -1.64705838, -1.64726674]),\n",
       " 'split3_train_score': array([-1.57293949, -1.57308024, -1.573253  , -1.57339891, -1.57351505,\n",
       "        -1.57364208, -1.57377459, -1.5739017 , -1.57402099, -1.57414578,\n",
       "        -1.57428824, -1.57443759, -1.57458639, -1.57474805, -1.57491507,\n",
       "        -1.57508745, -1.57527413, -1.57548534, -1.5757015 , -1.57592061,\n",
       "        -1.57614379, -1.57637066, -1.57659989, -1.57683943, -1.57707542,\n",
       "        -1.57731482, -1.57756559, -1.57782448, -1.57808394, -1.5783491 ,\n",
       "        -1.57861419, -1.57888248, -1.57914753, -1.57940945, -1.57967329,\n",
       "        -1.57994239, -1.58021374, -1.58048634, -1.58075753, -1.58103067,\n",
       "        -1.58130804, -1.58158442, -1.58185796, -1.58213219, -1.58240867,\n",
       "        -1.58268244, -1.58296076, -1.58324088, -1.58352709, -1.58381182,\n",
       "        -1.58409878, -1.5843861 , -1.58467259, -1.58496332, -1.58525293,\n",
       "        -1.5855501 , -1.585859  , -1.58616617, -1.58647431, -1.58678529,\n",
       "        -1.58709974, -1.58741823, -1.58773858, -1.58807186, -1.58840435,\n",
       "        -1.58873649, -1.58907766, -1.58941695, -1.58976059, -1.59010859,\n",
       "        -1.59045573, -1.59080519, -1.59115605, -1.59151479, -1.59187278,\n",
       "        -1.59223323, -1.59259244, -1.59295607, -1.59332037, -1.59368218,\n",
       "        -1.59404769, -1.59441762, -1.59478632, -1.59515293, -1.59551709,\n",
       "        -1.59587925, -1.59624241, -1.59660723, -1.59697333, -1.597342  ,\n",
       "        -1.59771431, -1.59808424, -1.59845183, -1.59881754, -1.59918268,\n",
       "        -1.59954854, -1.59991573, -1.60028216, -1.60064935, -1.60101585]),\n",
       " 'split4_test_score': array([-1.45032777, -1.44944355, -1.4484879 , -1.44748883, -1.44647726,\n",
       "        -1.4454701 , -1.44447677, -1.44350249, -1.44256588, -1.44168861,\n",
       "        -1.44085813, -1.44006867, -1.43930796, -1.43863644, -1.43798283,\n",
       "        -1.43734646, -1.43672661, -1.43612257, -1.43553361, -1.43495906,\n",
       "        -1.43439823, -1.43385049, -1.43331895, -1.43280049, -1.43229345,\n",
       "        -1.43187231, -1.43147328, -1.43109384, -1.43077346, -1.43046125,\n",
       "        -1.4301564 , -1.42985855, -1.42959562, -1.42936848, -1.42914728,\n",
       "        -1.42893174, -1.42872162, -1.42851666, -1.42831665, -1.42812138,\n",
       "        -1.4279489 , -1.42778697, -1.42762858, -1.42749047, -1.42738814,\n",
       "        -1.42732973, -1.42727366, -1.42721981, -1.42716809, -1.42711841,\n",
       "        -1.42707066, -1.42702478, -1.42698067, -1.42697524, -1.42697527,\n",
       "        -1.42697639, -1.42697854, -1.42698166, -1.42698571, -1.42699065,\n",
       "        -1.42699643, -1.42700301, -1.42701035, -1.42701842, -1.42702718,\n",
       "        -1.427038  , -1.427077  , -1.4271164 , -1.42715618, -1.42719631,\n",
       "        -1.42723676, -1.42727752, -1.42731857, -1.42737806, -1.42748368,\n",
       "        -1.42759128, -1.42769828, -1.42780465, -1.42791043, -1.42801559,\n",
       "        -1.42812016, -1.42822413, -1.42832751, -1.4284303 , -1.4285325 ,\n",
       "        -1.42863413, -1.42873517, -1.42883565, -1.42893556, -1.42905029,\n",
       "        -1.42918566, -1.42932026, -1.42945411, -1.42958721, -1.42972478,\n",
       "        -1.42988176, -1.43003782, -1.43019296, -1.43034719, -1.43050051]),\n",
       " 'split4_train_score': array([-1.594698  , -1.59467442, -1.59469564, -1.594752  , -1.59486973,\n",
       "        -1.59499539, -1.59512221, -1.59526272, -1.59540988, -1.59559366,\n",
       "        -1.59579239, -1.59599024, -1.59619139, -1.59639748, -1.59660607,\n",
       "        -1.59680849, -1.59700559, -1.59720329, -1.59739933, -1.59760136,\n",
       "        -1.59781913, -1.59803591, -1.59825032, -1.59846612, -1.59868232,\n",
       "        -1.59889851, -1.59911274, -1.59933435, -1.59955886, -1.59978659,\n",
       "        -1.60001642, -1.60025578, -1.60049992, -1.60074643, -1.60099484,\n",
       "        -1.60124644, -1.6015037 , -1.60176547, -1.60203567, -1.60230854,\n",
       "        -1.6025803 , -1.60285667, -1.60313967, -1.60342877, -1.60372599,\n",
       "        -1.60402998, -1.60433572, -1.60464577, -1.60495375, -1.6052608 ,\n",
       "        -1.60556701, -1.60587608, -1.60618416, -1.60649091, -1.6068044 ,\n",
       "        -1.60712263, -1.60743882, -1.60775226, -1.60806494, -1.60838021,\n",
       "        -1.60870208, -1.60902734, -1.60935681, -1.60968438, -1.61001031,\n",
       "        -1.6103367 , -1.61066765, -1.61099686, -1.61132556, -1.61165378,\n",
       "        -1.61197955, -1.61230289, -1.6126299 , -1.61296409, -1.61330386,\n",
       "        -1.61364735, -1.61399244, -1.61433687, -1.61468293, -1.61502823,\n",
       "        -1.61537645, -1.61572405, -1.61607025, -1.61641927, -1.61677028,\n",
       "        -1.61711942, -1.61746853, -1.61781626, -1.61816665, -1.6185188 ,\n",
       "        -1.61886921, -1.61922697, -1.6195866 , -1.61994461, -1.62030131,\n",
       "        -1.62065571, -1.62100783, -1.6213577 , -1.62170903, -1.62206116]),\n",
       " 'split5_test_score': array([-1.64004633, -1.63901912, -1.63809581, -1.63724413, -1.63644519,\n",
       "        -1.63571198, -1.63503705, -1.63438817, -1.63376158, -1.63315448,\n",
       "        -1.63256471, -1.63199058, -1.63143075, -1.63088408, -1.63034965,\n",
       "        -1.62982668, -1.62931551, -1.62881538, -1.62832496, -1.62784377,\n",
       "        -1.6273714 , -1.62690747, -1.62645163, -1.62600355, -1.62556295,\n",
       "        -1.62512954, -1.62470308, -1.62428332, -1.62389331, -1.62352364,\n",
       "        -1.6231607 , -1.62280427, -1.62245412, -1.62211005, -1.62177185,\n",
       "        -1.62143935, -1.62111236, -1.62079073, -1.62047427, -1.62016285,\n",
       "        -1.61985632, -1.61955454, -1.61925736, -1.61896467, -1.61870472,\n",
       "        -1.61850196, -1.61830247, -1.61811862, -1.61795548, -1.61779498,\n",
       "        -1.61763706, -1.61748165, -1.61732867, -1.61717806, -1.61702977,\n",
       "        -1.61691654, -1.61682553, -1.61673638, -1.61664903, -1.61656344,\n",
       "        -1.61647955, -1.61639732, -1.61631671, -1.61623766, -1.61616015,\n",
       "        -1.61608412, -1.61600953, -1.61593636, -1.61590137, -1.61587843,\n",
       "        -1.61585653, -1.61583566, -1.61581576, -1.61579683, -1.61577882,\n",
       "        -1.61576171, -1.61574548, -1.61573824, -1.61573343, -1.61572926,\n",
       "        -1.61572573, -1.61572281, -1.61575581, -1.61580089, -1.6158461 ,\n",
       "        -1.61589143, -1.61593686, -1.61598239, -1.616028  , -1.6160737 ,\n",
       "        -1.61612519, -1.6161877 , -1.61625009, -1.6163323 , -1.61643082,\n",
       "        -1.61652898, -1.61662679, -1.61672424, -1.61682134, -1.61691809]),\n",
       " 'split5_train_score': array([-1.57138556, -1.57138441, -1.57139002, -1.5714234 , -1.57148632,\n",
       "        -1.57157618, -1.57167224, -1.57177649, -1.57189612, -1.57201456,\n",
       "        -1.57214412, -1.57228199, -1.57241826, -1.57256054, -1.57271317,\n",
       "        -1.57286772, -1.57302768, -1.57319572, -1.57338568, -1.57358844,\n",
       "        -1.57378873, -1.57398708, -1.57418346, -1.57438059, -1.57457842,\n",
       "        -1.57478433, -1.57499005, -1.5751957 , -1.57540593, -1.57561646,\n",
       "        -1.57583306, -1.57605575, -1.57628087, -1.57650357, -1.57672392,\n",
       "        -1.57694765, -1.577178  , -1.57741637, -1.57765711, -1.57791277,\n",
       "        -1.5781762 , -1.57844434, -1.57871115, -1.57898319, -1.57926011,\n",
       "        -1.57953638, -1.57981   , -1.58008583, -1.58037096, -1.58066338,\n",
       "        -1.58095366, -1.58125519, -1.58155659, -1.58185638, -1.58216268,\n",
       "        -1.58247484, -1.58279095, -1.58310919, -1.58342893, -1.58374787,\n",
       "        -1.58406843, -1.58438824, -1.5847103 , -1.58504786, -1.58539311,\n",
       "        -1.58573984, -1.5860884 , -1.58644209, -1.58680413, -1.58717009,\n",
       "        -1.5875391 , -1.58790535, -1.58826922, -1.58863506, -1.58900271,\n",
       "        -1.58937174, -1.58974092, -1.59010903, -1.59047871, -1.5908477 ,\n",
       "        -1.59121407, -1.59157785, -1.59194325, -1.59230662, -1.59267279,\n",
       "        -1.59303968, -1.59340405, -1.59377004, -1.59413767, -1.59450506,\n",
       "        -1.59487598, -1.59524522, -1.59561204, -1.59597645, -1.59633849,\n",
       "        -1.59670052, -1.5970622 , -1.5974257 , -1.59779048, -1.59815409]),\n",
       " 'split6_test_score': array([-1.42603072, -1.42527953, -1.42460292, -1.42412197, -1.42377146,\n",
       "        -1.42343705, -1.4231159 , -1.4228061 , -1.42250629, -1.42223274,\n",
       "        -1.42201914, -1.42187527, -1.42174739, -1.4216242 , -1.42150551,\n",
       "        -1.42139111, -1.42128084, -1.42118202, -1.42110588, -1.42103293,\n",
       "        -1.42097021, -1.42094471, -1.42094401, -1.42095835, -1.42097542,\n",
       "        -1.4209951 , -1.4210173 , -1.42104192, -1.42106888, -1.42109809,\n",
       "        -1.42112945, -1.4211629 , -1.42119835, -1.42123572, -1.42127494,\n",
       "        -1.42131595, -1.4213738 , -1.42146381, -1.42155485, -1.42164688,\n",
       "        -1.42173985, -1.42183372, -1.42192844, -1.42202587, -1.42213753,\n",
       "        -1.42224978, -1.42236257, -1.42247587, -1.42258965, -1.42270387,\n",
       "        -1.42281851, -1.42293354, -1.42304892, -1.42316463, -1.42328064,\n",
       "        -1.42340141, -1.42353523, -1.42366914, -1.42380312, -1.42393716,\n",
       "        -1.42407124, -1.42420534, -1.42433945, -1.42451598, -1.42475455,\n",
       "        -1.42499237, -1.42522943, -1.42546573, -1.42570126, -1.4259389 ,\n",
       "        -1.42620193, -1.42646403, -1.42672515, -1.42698528, -1.42724444,\n",
       "        -1.42750261, -1.42775981, -1.42801602, -1.42827125, -1.4285255 ,\n",
       "        -1.42877877, -1.42903107, -1.42928633, -1.42956319, -1.42983893,\n",
       "        -1.43016156, -1.43049875, -1.43083428, -1.43116817, -1.43150043,\n",
       "        -1.43183106, -1.43216009, -1.43248752, -1.43281337, -1.43313764,\n",
       "        -1.43346035, -1.43378151, -1.43410113, -1.43441922, -1.4347358 ]),\n",
       " 'split6_train_score': array([-1.60157983, -1.60155719, -1.60161152, -1.60167244, -1.60171642,\n",
       "        -1.60175459, -1.60180444, -1.60188695, -1.60199838, -1.6021185 ,\n",
       "        -1.6022407 , -1.60236902, -1.60251433, -1.602665  , -1.60281165,\n",
       "        -1.60295969, -1.60310508, -1.60324632, -1.60338636, -1.60353225,\n",
       "        -1.60367978, -1.60383252, -1.60399202, -1.60415516, -1.60431575,\n",
       "        -1.60447623, -1.60464566, -1.60482198, -1.60500062, -1.60517866,\n",
       "        -1.6053544 , -1.60553368, -1.60571587, -1.60590444, -1.60610178,\n",
       "        -1.60630226, -1.60650265, -1.60670291, -1.60690111, -1.60710807,\n",
       "        -1.60733985, -1.60759142, -1.60784177, -1.60809165, -1.60834203,\n",
       "        -1.6086019 , -1.60886113, -1.60912624, -1.60939765, -1.60966648,\n",
       "        -1.60994119, -1.61021842, -1.6105    , -1.61078607, -1.61107066,\n",
       "        -1.61135437, -1.61163735, -1.61193019, -1.61222165, -1.61251064,\n",
       "        -1.61280064, -1.61308904, -1.61337807, -1.6136649 , -1.61395333,\n",
       "        -1.61423944, -1.61452569, -1.61481268, -1.61509971, -1.61538957,\n",
       "        -1.6156805 , -1.61597167, -1.61627358, -1.6165807 , -1.61689031,\n",
       "        -1.61719997, -1.61750787, -1.61781558, -1.61812132, -1.61842932,\n",
       "        -1.61874407, -1.61906002, -1.61937904, -1.61969975, -1.62001989,\n",
       "        -1.62034152, -1.62066099, -1.62097912, -1.62130372, -1.62163087,\n",
       "        -1.62195889, -1.62228532, -1.6226096 , -1.6229324 , -1.62325322,\n",
       "        -1.6235726 , -1.62389015, -1.62421182, -1.62453596, -1.62486078]),\n",
       " 'split7_test_score': array([-1.57554032, -1.57362404, -1.57209475, -1.57082408, -1.5697378 ,\n",
       "        -1.56878954, -1.56794856, -1.5671935 , -1.56650892, -1.56588329,\n",
       "        -1.56530776, -1.56477541, -1.5642931 , -1.56392392, -1.56368855,\n",
       "        -1.56347554, -1.56328035, -1.56310128, -1.56293685, -1.56278578,\n",
       "        -1.56264696, -1.56256224, -1.56249981, -1.56244529, -1.56239806,\n",
       "        -1.5623576 , -1.56232341, -1.56229506, -1.56227216, -1.56225434,\n",
       "        -1.56224127, -1.56223265, -1.5622282 , -1.56222766, -1.56223081,\n",
       "        -1.56223741, -1.56224728, -1.56227   , -1.56229947, -1.56233197,\n",
       "        -1.56236731, -1.56240532, -1.56245941, -1.56256908, -1.56270606,\n",
       "        -1.5628758 , -1.56304617, -1.56321709, -1.5633885 , -1.56356032,\n",
       "        -1.56373885, -1.56392918, -1.56411962, -1.56431013, -1.56450067,\n",
       "        -1.5646912 , -1.5648901 , -1.5651205 , -1.56534986, -1.56560415,\n",
       "        -1.56587504, -1.5661446 , -1.56641284, -1.56667975, -1.56694535,\n",
       "        -1.56720963, -1.56747262, -1.5677343 , -1.5679947 , -1.56825778,\n",
       "        -1.5685741 , -1.56888874, -1.56928359, -1.56968053, -1.57007523,\n",
       "        -1.57046769, -1.57085793, -1.57124599, -1.57163186, -1.57201558,\n",
       "        -1.57239715, -1.57277661, -1.57315395, -1.57352922, -1.57390241,\n",
       "        -1.57427354, -1.57464265, -1.57500973, -1.57537481, -1.57573791,\n",
       "        -1.57609903, -1.57645821, -1.57681544, -1.57717076, -1.57752417,\n",
       "        -1.57788569, -1.57824923, -1.57861087, -1.57897061, -1.57932848]),\n",
       " 'split7_train_score': array([-1.58259884, -1.58276826, -1.58293692, -1.58310155, -1.58324708,\n",
       "        -1.58342653, -1.58359548, -1.58378249, -1.5839697 , -1.58415991,\n",
       "        -1.58435724, -1.58455776, -1.58475688, -1.58497464, -1.58520043,\n",
       "        -1.58541805, -1.5856284 , -1.58583221, -1.58604506, -1.58626085,\n",
       "        -1.58647716, -1.58669347, -1.58690535, -1.5871198 , -1.58734381,\n",
       "        -1.58757518, -1.58780893, -1.58804554, -1.58828126, -1.58851743,\n",
       "        -1.58876986, -1.58903033, -1.589291  , -1.58954901, -1.58980542,\n",
       "        -1.59006585, -1.59032944, -1.5905902 , -1.59085388, -1.59112845,\n",
       "        -1.59141369, -1.59169814, -1.59198163, -1.59226685, -1.59256191,\n",
       "        -1.59285414, -1.59314341, -1.59344019, -1.5937428 , -1.59404985,\n",
       "        -1.59435475, -1.59465965, -1.59496544, -1.59527347, -1.59558167,\n",
       "        -1.59588781, -1.59619363, -1.59650178, -1.59680909, -1.59712223,\n",
       "        -1.59743997, -1.59775926, -1.59807813, -1.59840169, -1.59872544,\n",
       "        -1.59904737, -1.5993681 , -1.59969088, -1.60001456, -1.60034295,\n",
       "        -1.60067412, -1.60100887, -1.60134943, -1.60169176, -1.60203334,\n",
       "        -1.6023757 , -1.60271552, -1.60305282, -1.60338908, -1.60372623,\n",
       "        -1.60406093, -1.60439666, -1.60473079, -1.60506415, -1.60539529,\n",
       "        -1.60572661, -1.6060666 , -1.60640817, -1.60674772, -1.60708839,\n",
       "        -1.60743001, -1.60776933, -1.60810689, -1.60844224, -1.60878009,\n",
       "        -1.60912404, -1.60947121, -1.60981977, -1.61016812, -1.61051423]),\n",
       " 'split8_test_score': array([-1.5283931 , -1.52808646, -1.52769358, -1.52723645, -1.52674652,\n",
       "        -1.52624168, -1.52573248, -1.52544817, -1.52518092, -1.52494689,\n",
       "        -1.52474693, -1.52458292, -1.52442116, -1.52426275, -1.52410844,\n",
       "        -1.52395869, -1.52381379, -1.52367392, -1.52353912, -1.52340939,\n",
       "        -1.52328543, -1.52318679, -1.5230927 , -1.52300304, -1.5229177 ,\n",
       "        -1.52283652, -1.52275939, -1.52268616, -1.52261668, -1.52257081,\n",
       "        -1.52254107, -1.52251478, -1.52249179, -1.52247196, -1.52245515,\n",
       "        -1.52244122, -1.52243004, -1.5224215 , -1.52241548, -1.52241186,\n",
       "        -1.52241055, -1.52241144, -1.52241444, -1.52241946, -1.52243245,\n",
       "        -1.5224594 , -1.52248797, -1.5225181 , -1.52254971, -1.52258274,\n",
       "        -1.52261712, -1.5226528 , -1.52269546, -1.52281781, -1.52295375,\n",
       "        -1.52309042, -1.52322777, -1.52341213, -1.52360384, -1.52379565,\n",
       "        -1.52398752, -1.52418823, -1.52441174, -1.5246347 , -1.52485709,\n",
       "        -1.5250789 , -1.5253001 , -1.52552069, -1.52574064, -1.52595995,\n",
       "        -1.5261786 , -1.52639658, -1.52661387, -1.52683047, -1.52704637,\n",
       "        -1.52726156, -1.52747603, -1.52773129, -1.52798591, -1.52823944,\n",
       "        -1.52849188, -1.52874322, -1.52899347, -1.52924263, -1.52949192,\n",
       "        -1.52975141, -1.53000973, -1.53026689, -1.53052289, -1.53079633,\n",
       "        -1.53109014, -1.53138259, -1.53167366, -1.53196338, -1.53225174,\n",
       "        -1.53253875, -1.53282442, -1.53310876, -1.53339176, -1.53367344]),\n",
       " 'split8_train_score': array([-1.58876262, -1.58870366, -1.58870615, -1.58876162, -1.5888311 ,\n",
       "        -1.58890839, -1.5889983 , -1.58909637, -1.58919885, -1.58930463,\n",
       "        -1.58941859, -1.58954035, -1.58966844, -1.58979773, -1.58994016,\n",
       "        -1.59009766, -1.59026029, -1.59042197, -1.59058375, -1.59075386,\n",
       "        -1.59092954, -1.59110363, -1.59127983, -1.59146291, -1.59166132,\n",
       "        -1.59186045, -1.59206462, -1.59227372, -1.59248259, -1.59270291,\n",
       "        -1.59292254, -1.59314859, -1.59338051, -1.59361469, -1.59385762,\n",
       "        -1.59410751, -1.59436217, -1.5946173 , -1.59487598, -1.595132  ,\n",
       "        -1.59538975, -1.59565227, -1.59591549, -1.59617671, -1.59643648,\n",
       "        -1.59670095, -1.59696294, -1.597224  , -1.59748733, -1.59775742,\n",
       "        -1.59803132, -1.59830524, -1.59858267, -1.59886207, -1.5991392 ,\n",
       "        -1.59941596, -1.59969267, -1.59996927, -1.60024745, -1.60052413,\n",
       "        -1.60080722, -1.60109143, -1.60137874, -1.60167089, -1.60196785,\n",
       "        -1.6022625 , -1.60256021, -1.60286726, -1.60317784, -1.603493  ,\n",
       "        -1.60381051, -1.60413179, -1.60445381, -1.60477527, -1.60509702,\n",
       "        -1.60541675, -1.60574103, -1.60607859, -1.60642317, -1.60676807,\n",
       "        -1.6071119 , -1.60745652, -1.6078024 , -1.60814938, -1.60849395,\n",
       "        -1.60884043, -1.60918612, -1.60953119, -1.60987453, -1.61021637,\n",
       "        -1.61056412, -1.61090992, -1.61125649, -1.61160429, -1.61195536,\n",
       "        -1.61230608, -1.61266125, -1.61301551, -1.61336878, -1.61372309]),\n",
       " 'split9_test_score': array([-1.66222116, -1.66194039, -1.66169648, -1.6614949 , -1.66143541,\n",
       "        -1.66145015, -1.66157719, -1.66180997, -1.66211099, -1.66243107,\n",
       "        -1.66281158, -1.66321949, -1.66364179, -1.66407707, -1.66452402,\n",
       "        -1.66498142, -1.66544819, -1.66592329, -1.66640582, -1.66689492,\n",
       "        -1.66738984, -1.66788986, -1.66839436, -1.66890276, -1.66941452,\n",
       "        -1.66992916, -1.67044625, -1.67096538, -1.67148619, -1.67200833,\n",
       "        -1.67253151, -1.67305544, -1.67357987, -1.6741088 , -1.67465894,\n",
       "        -1.67520885, -1.67575837, -1.6763073 , -1.67685551, -1.67740286,\n",
       "        -1.6779492 , -1.67849443, -1.67903843, -1.67958111, -1.68012237,\n",
       "        -1.68066213, -1.68120907, -1.68179392, -1.68237714, -1.68295865,\n",
       "        -1.68354894, -1.68415855, -1.68476609, -1.68537152, -1.68597823,\n",
       "        -1.68660179, -1.68722245, -1.68784023, -1.68845512, -1.68906711,\n",
       "        -1.6896762 , -1.69029902, -1.6909202 , -1.69155482, -1.6922117 ,\n",
       "        -1.69286522, -1.6935154 , -1.69416225, -1.69480579, -1.69544603,\n",
       "        -1.696083  , -1.6967167 , -1.69734715, -1.69797437, -1.69859839,\n",
       "        -1.69921921, -1.69983685, -1.70045134, -1.70106269, -1.70167093,\n",
       "        -1.70227606, -1.70287811, -1.70347709, -1.70407303, -1.70466595,\n",
       "        -1.70525586, -1.70584278, -1.70642674, -1.70700774, -1.70758582,\n",
       "        -1.70816099, -1.70873326, -1.70932499, -1.70993128, -1.71053453,\n",
       "        -1.71113474, -1.71173195, -1.71232616, -1.71291741, -1.7135057 ]),\n",
       " 'split9_train_score': array([-1.57336972, -1.57339117, -1.57343374, -1.57347055, -1.57355487,\n",
       "        -1.57364745, -1.57372999, -1.57380785, -1.57388121, -1.57395682,\n",
       "        -1.57404757, -1.57414395, -1.5742384 , -1.57432756, -1.57441748,\n",
       "        -1.57452344, -1.57463779, -1.57476722, -1.57489713, -1.57502997,\n",
       "        -1.57516029, -1.57529575, -1.57543804, -1.57558386, -1.57573596,\n",
       "        -1.57588716, -1.57603867, -1.57619234, -1.5763463 , -1.57650541,\n",
       "        -1.57666931, -1.57683585, -1.5770146 , -1.57720537, -1.57741306,\n",
       "        -1.57761985, -1.57782407, -1.57802676, -1.57822819, -1.57844086,\n",
       "        -1.57866746, -1.57889939, -1.57913183, -1.57936449, -1.57960117,\n",
       "        -1.57984444, -1.58009088, -1.58034282, -1.58059872, -1.58086459,\n",
       "        -1.58113557, -1.58140659, -1.58167625, -1.58194749, -1.58221738,\n",
       "        -1.5824885 , -1.58275795, -1.58303165, -1.58330918, -1.58358733,\n",
       "        -1.58386363, -1.58414022, -1.58441825, -1.58469862, -1.58498307,\n",
       "        -1.58526589, -1.58554756, -1.58583313, -1.58611862, -1.58641028,\n",
       "        -1.58670277, -1.58700149, -1.58730945, -1.58762238, -1.58793549,\n",
       "        -1.58824738, -1.58856215, -1.58888082, -1.58919832, -1.5895168 ,\n",
       "        -1.58984065, -1.59016561, -1.59048928, -1.59081145, -1.59113138,\n",
       "        -1.5914491 , -1.59176466, -1.59207924, -1.59239501, -1.5927123 ,\n",
       "        -1.59302912, -1.59334383, -1.59365881, -1.59397244, -1.59428888,\n",
       "        -1.5946059 , -1.59492189, -1.59523822, -1.59555603, -1.59587679]),\n",
       " 'std_fit_time': array([1.04600905e-03, 1.21063995e-03, 3.27697299e-04, 1.60984174e-04,\n",
       "        2.04405420e-04, 4.39219509e-04, 3.26592941e-04, 3.82494540e-04,\n",
       "        3.71341522e-04, 1.02414021e-04, 5.29179749e-04, 3.21103085e-04,\n",
       "        3.73178674e-04, 1.72225616e-04, 3.84072674e-04, 3.78033938e-04,\n",
       "        1.35145571e-04, 3.83786786e-04, 1.36503405e-04, 1.35823047e-04,\n",
       "        2.81312389e-04, 2.41101784e-04, 1.14350939e-04, 1.55491757e-04,\n",
       "        1.53578923e-04, 1.84321396e-04, 1.58801565e-04, 1.64687095e-04,\n",
       "        1.90575020e-04, 9.52154050e-05, 2.94029663e-04, 1.00845377e-04,\n",
       "        1.46700106e-04, 1.91410164e-04, 2.37931470e-04, 2.21334182e-04,\n",
       "        1.17090071e-04, 2.78063721e-04, 1.14048805e-04, 2.63053579e-04,\n",
       "        2.19903737e-04, 1.71583509e-04, 1.20320019e-04, 1.38685874e-04,\n",
       "        1.74550858e-04, 1.40615124e-04, 1.28631444e-04, 1.39217802e-04,\n",
       "        9.74112639e-05, 2.88609692e-04, 1.90376853e-04, 3.43271162e-04,\n",
       "        1.12829899e-04, 1.60533686e-04, 1.47767781e-04, 2.22649899e-04,\n",
       "        1.89199498e-04, 3.36385229e-04, 1.55829960e-04, 2.18928818e-04,\n",
       "        3.98608762e-04, 2.03912407e-04, 6.67374435e-04, 1.54354075e-04,\n",
       "        2.17682651e-04, 3.57533809e-04, 1.69042413e-04, 1.40534670e-04,\n",
       "        1.30589282e-04, 1.16898574e-04, 3.41109453e-04, 2.97915669e-04,\n",
       "        1.56372217e-04, 1.27621884e-04, 3.50031721e-04, 2.35742167e-04,\n",
       "        2.29595413e-04, 4.79123817e-04, 1.32041369e-04, 1.66677943e-04,\n",
       "        4.49115945e-04, 1.57345896e-04, 1.55812787e-04, 2.31018658e-04,\n",
       "        7.21363730e-05, 2.39895093e-04, 1.97320795e-04, 2.16155403e-04,\n",
       "        2.12842932e-04, 1.76907357e-04, 3.67599321e-04, 2.59344604e-04,\n",
       "        1.56230650e-04, 1.46585598e-04, 2.13944622e-04, 1.50791692e-04,\n",
       "        1.46482411e-04, 2.81257402e-04, 1.53991354e-04, 1.70188988e-04]),\n",
       " 'std_score_time': array([5.37216052e-05, 2.63724585e-04, 1.91466759e-04, 6.38258782e-05,\n",
       "        5.01064935e-05, 1.08978577e-04, 1.18655753e-04, 6.71690600e-05,\n",
       "        3.07987437e-05, 2.80525067e-05, 9.79238946e-05, 7.99522548e-05,\n",
       "        7.14804984e-05, 7.30228275e-05, 8.61133451e-05, 7.99124485e-05,\n",
       "        8.55237054e-05, 8.60624397e-05, 2.52638321e-05, 6.43527255e-05,\n",
       "        9.87795422e-05, 3.01438881e-05, 3.92726569e-05, 1.61436845e-05,\n",
       "        5.13517811e-05, 4.04641284e-05, 2.84268942e-05, 2.75925603e-05,\n",
       "        4.16703297e-05, 1.49764086e-04, 4.65624832e-05, 5.15774996e-05,\n",
       "        5.46563140e-05, 6.01303237e-05, 2.67309761e-05, 5.66986050e-05,\n",
       "        3.71999383e-05, 3.55088437e-05, 5.32975975e-05, 2.52110710e-05,\n",
       "        9.18488012e-05, 2.19819344e-05, 4.63988589e-05, 5.85413700e-05,\n",
       "        3.02560974e-05, 7.05824342e-05, 7.31682342e-05, 3.91935852e-05,\n",
       "        3.21852366e-05, 5.38821822e-05, 8.11387851e-05, 5.64349871e-05,\n",
       "        4.31470510e-05, 4.78384131e-05, 3.03598609e-05, 5.18581456e-05,\n",
       "        2.35040576e-05, 5.60281632e-05, 4.05928479e-05, 6.13046495e-05,\n",
       "        3.63553937e-05, 4.51925483e-05, 1.10575301e-04, 5.28490747e-05,\n",
       "        4.36427146e-05, 2.78266657e-05, 5.27858734e-05, 4.36664392e-05,\n",
       "        1.71827031e-05, 6.68900777e-05, 3.68524563e-05, 3.66628940e-05,\n",
       "        6.30502249e-05, 2.52727693e-04, 7.55175372e-05, 4.49529996e-05,\n",
       "        8.80707420e-05, 9.89591316e-05, 3.45780020e-05, 2.98276412e-05,\n",
       "        3.44249432e-05, 2.50083361e-05, 2.94183892e-05, 1.72489869e-05,\n",
       "        6.13739438e-05, 3.57980237e-05, 4.83892753e-05, 6.85375085e-05,\n",
       "        5.89746994e-05, 3.71318089e-05, 8.86085496e-05, 3.58198109e-05,\n",
       "        5.27609542e-05, 3.51930051e-05, 3.80059257e-05, 4.45141023e-05,\n",
       "        4.19082898e-05, 5.53376867e-05, 3.34119290e-05, 2.20431483e-05]),\n",
       " 'std_test_score': array([0.11603176, 0.11577991, 0.11558638, 0.11545631, 0.11536498,\n",
       "        0.11530207, 0.11526612, 0.11532268, 0.1153888 , 0.11545943,\n",
       "        0.11553483, 0.11560174, 0.11567028, 0.11572943, 0.1157882 ,\n",
       "        0.11585067, 0.11591656, 0.11598991, 0.11607107, 0.11615676,\n",
       "        0.1162473 , 0.11633049, 0.11641073, 0.11649462, 0.11657961,\n",
       "        0.1166541 , 0.11672765, 0.11680046, 0.11686659, 0.11693208,\n",
       "        0.11699731, 0.11706316, 0.11712896, 0.11719672, 0.11727181,\n",
       "        0.11735232, 0.11743098, 0.11750461, 0.11757857, 0.11765625,\n",
       "        0.11774499, 0.11784479, 0.11795309, 0.11805623, 0.11815081,\n",
       "        0.11824351, 0.1183408 , 0.11844307, 0.11854559, 0.11864932,\n",
       "        0.11875327, 0.11885786, 0.11896335, 0.11905942, 0.11915391,\n",
       "        0.11924882, 0.11934122, 0.11942868, 0.11951546, 0.11960168,\n",
       "        0.11968977, 0.11978071, 0.11987218, 0.11995925, 0.12004428,\n",
       "        0.1201381 , 0.12022743, 0.12031656, 0.12040602, 0.12049688,\n",
       "        0.12058126, 0.12066543, 0.12074623, 0.12082615, 0.12090048,\n",
       "        0.12097539, 0.12105183, 0.12112505, 0.12119811, 0.12127178,\n",
       "        0.12134843, 0.12142571, 0.12150208, 0.1215747 , 0.12164703,\n",
       "        0.12171087, 0.12177563, 0.12184312, 0.12191113, 0.12197555,\n",
       "        0.12203492, 0.12209409, 0.1221547 , 0.12221634, 0.12227691,\n",
       "        0.12233377, 0.12239035, 0.12244678, 0.12250349, 0.12256329]),\n",
       " 'std_train_score': array([0.01437866, 0.01432667, 0.01430458, 0.01429717, 0.01428358,\n",
       "        0.01426967, 0.01425633, 0.01425142, 0.01425263, 0.01425757,\n",
       "        0.01425816, 0.0142597 , 0.01426418, 0.01426945, 0.01427635,\n",
       "        0.01428202, 0.01428357, 0.01428209, 0.01427616, 0.01427127,\n",
       "        0.01426878, 0.01426531, 0.01426083, 0.01425667, 0.01425385,\n",
       "        0.01425142, 0.01424974, 0.01424892, 0.01424724, 0.0142466 ,\n",
       "        0.01424611, 0.01424569, 0.0142457 , 0.01424621, 0.01424672,\n",
       "        0.01424764, 0.01424855, 0.01424786, 0.01424646, 0.01424574,\n",
       "        0.01424847, 0.01425456, 0.01426056, 0.01426695, 0.01427437,\n",
       "        0.01428252, 0.01428928, 0.01429495, 0.01430017, 0.01430427,\n",
       "        0.01430822, 0.01431162, 0.01431448, 0.01431694, 0.01431928,\n",
       "        0.01432193, 0.01432381, 0.01432667, 0.01432892, 0.01432942,\n",
       "        0.01432776, 0.0143249 , 0.01432149, 0.01431603, 0.01430936,\n",
       "        0.01430152, 0.01429408, 0.01428608, 0.01427658, 0.01426644,\n",
       "        0.01425644, 0.01424527, 0.01423674, 0.01422846, 0.01422093,\n",
       "        0.01421396, 0.01420589, 0.01419618, 0.01418746, 0.01417958,\n",
       "        0.01417348, 0.01416638, 0.01415895, 0.01415238, 0.0141451 ,\n",
       "        0.01413812, 0.01413158, 0.01412527, 0.01411971, 0.01411513,\n",
       "        0.01411142, 0.01410792, 0.01410364, 0.01409881, 0.01409394,\n",
       "        0.01408922, 0.01408453, 0.01408039, 0.01407446, 0.01406874])}"
      ]
     },
     "execution_count": 57,
     "metadata": {},
     "output_type": "execute_result"
    }
   ],
   "source": [
    "grid_search.cv_results_"
   ]
  },
  {
   "cell_type": "markdown",
   "metadata": {},
   "source": [
    " if you want you can now fit a ridge regression model with obtained value of alpha , although there is no need, grid search automatically fits the best estimator on the entire data, you can directly use this to make predictions on test_data. But if you want to look at coefficients , its much more convenient to fit the model with direct function"
   ]
  },
  {
   "cell_type": "markdown",
   "metadata": {},
   "source": [
    "Using the report function given below you can see the cv performance of top few models as well, that will the tentative performance"
   ]
  },
  {
   "cell_type": "code",
   "execution_count": 58,
   "metadata": {
    "collapsed": true
   },
   "outputs": [],
   "source": [
    "def report(results, n_top=3):\n",
    "    for i in range(1, n_top + 1):\n",
    "        candidates = np.flatnonzero(results['rank_test_score'] == i)\n",
    "        for candidate in candidates:\n",
    "            print(\"Model with rank: {0}\".format(i))\n",
    "            print(\"Mean validation score: {0:.3f} (std: {1:.3f})\".format(\n",
    "                  results['mean_test_score'][candidate],\n",
    "                  results['std_test_score'][candidate]))\n",
    "            print(\"Parameters: {0}\".format(results['params'][candidate]))\n",
    "            print(\"\")"
   ]
  },
  {
   "cell_type": "code",
   "execution_count": 60,
   "metadata": {},
   "outputs": [
    {
     "name": "stdout",
     "output_type": "stream",
     "text": [
      "Model with rank: 1\n",
      "Mean validation score: -1.610 (std: 0.117)\n",
      "Parameters: {'alpha': 33.0}\n",
      "\n",
      "Model with rank: 2\n",
      "Mean validation score: -1.610 (std: 0.117)\n",
      "Parameters: {'alpha': 34.0}\n",
      "\n",
      "Model with rank: 3\n",
      "Mean validation score: -1.610 (std: 0.117)\n",
      "Parameters: {'alpha': 32.0}\n",
      "\n",
      "Model with rank: 4\n",
      "Mean validation score: -1.610 (std: 0.117)\n",
      "Parameters: {'alpha': 35.0}\n",
      "\n",
      "Model with rank: 5\n",
      "Mean validation score: -1.610 (std: 0.117)\n",
      "Parameters: {'alpha': 31.0}\n",
      "\n",
      "Model with rank: 6\n",
      "Mean validation score: -1.610 (std: 0.117)\n",
      "Parameters: {'alpha': 36.0}\n",
      "\n",
      "Model with rank: 7\n",
      "Mean validation score: -1.610 (std: 0.117)\n",
      "Parameters: {'alpha': 30.0}\n",
      "\n",
      "Model with rank: 8\n",
      "Mean validation score: -1.610 (std: 0.117)\n",
      "Parameters: {'alpha': 37.0}\n",
      "\n",
      "Model with rank: 9\n",
      "Mean validation score: -1.610 (std: 0.117)\n",
      "Parameters: {'alpha': 29.0}\n",
      "\n",
      "Model with rank: 10\n",
      "Mean validation score: -1.610 (std: 0.118)\n",
      "Parameters: {'alpha': 38.0}\n",
      "\n",
      "Model with rank: 11\n",
      "Mean validation score: -1.610 (std: 0.117)\n",
      "Parameters: {'alpha': 28.0}\n",
      "\n",
      "Model with rank: 12\n",
      "Mean validation score: -1.610 (std: 0.118)\n",
      "Parameters: {'alpha': 39.0}\n",
      "\n",
      "Model with rank: 13\n",
      "Mean validation score: -1.610 (std: 0.117)\n",
      "Parameters: {'alpha': 27.0}\n",
      "\n",
      "Model with rank: 14\n",
      "Mean validation score: -1.610 (std: 0.118)\n",
      "Parameters: {'alpha': 40.0}\n",
      "\n",
      "Model with rank: 15\n",
      "Mean validation score: -1.610 (std: 0.117)\n",
      "Parameters: {'alpha': 26.0}\n",
      "\n",
      "Model with rank: 16\n",
      "Mean validation score: -1.610 (std: 0.118)\n",
      "Parameters: {'alpha': 41.0}\n",
      "\n",
      "Model with rank: 17\n",
      "Mean validation score: -1.611 (std: 0.117)\n",
      "Parameters: {'alpha': 25.0}\n",
      "\n",
      "Model with rank: 18\n",
      "Mean validation score: -1.611 (std: 0.118)\n",
      "Parameters: {'alpha': 42.0}\n",
      "\n",
      "Model with rank: 19\n",
      "Mean validation score: -1.611 (std: 0.116)\n",
      "Parameters: {'alpha': 24.0}\n",
      "\n",
      "Model with rank: 20\n",
      "Mean validation score: -1.611 (std: 0.118)\n",
      "Parameters: {'alpha': 43.0}\n",
      "\n",
      "Model with rank: 21\n",
      "Mean validation score: -1.611 (std: 0.116)\n",
      "Parameters: {'alpha': 23.0}\n",
      "\n",
      "Model with rank: 22\n",
      "Mean validation score: -1.611 (std: 0.118)\n",
      "Parameters: {'alpha': 44.0}\n",
      "\n",
      "Model with rank: 23\n",
      "Mean validation score: -1.611 (std: 0.116)\n",
      "Parameters: {'alpha': 22.0}\n",
      "\n",
      "Model with rank: 24\n",
      "Mean validation score: -1.611 (std: 0.118)\n",
      "Parameters: {'alpha': 45.0}\n",
      "\n",
      "Model with rank: 25\n",
      "Mean validation score: -1.611 (std: 0.116)\n",
      "Parameters: {'alpha': 21.0}\n",
      "\n",
      "Model with rank: 26\n",
      "Mean validation score: -1.611 (std: 0.118)\n",
      "Parameters: {'alpha': 46.0}\n",
      "\n",
      "Model with rank: 27\n",
      "Mean validation score: -1.611 (std: 0.116)\n",
      "Parameters: {'alpha': 20.0}\n",
      "\n",
      "Model with rank: 28\n",
      "Mean validation score: -1.611 (std: 0.118)\n",
      "Parameters: {'alpha': 47.0}\n",
      "\n",
      "Model with rank: 29\n",
      "Mean validation score: -1.611 (std: 0.116)\n",
      "Parameters: {'alpha': 19.0}\n",
      "\n",
      "Model with rank: 30\n",
      "Mean validation score: -1.611 (std: 0.118)\n",
      "Parameters: {'alpha': 48.0}\n",
      "\n",
      "Model with rank: 31\n",
      "Mean validation score: -1.611 (std: 0.116)\n",
      "Parameters: {'alpha': 18.0}\n",
      "\n",
      "Model with rank: 32\n",
      "Mean validation score: -1.611 (std: 0.119)\n",
      "Parameters: {'alpha': 49.0}\n",
      "\n",
      "Model with rank: 33\n",
      "Mean validation score: -1.611 (std: 0.116)\n",
      "Parameters: {'alpha': 17.0}\n",
      "\n",
      "Model with rank: 34\n",
      "Mean validation score: -1.611 (std: 0.119)\n",
      "Parameters: {'alpha': 50.0}\n",
      "\n",
      "Model with rank: 35\n",
      "Mean validation score: -1.612 (std: 0.116)\n",
      "Parameters: {'alpha': 16.0}\n",
      "\n",
      "Model with rank: 36\n",
      "Mean validation score: -1.612 (std: 0.119)\n",
      "Parameters: {'alpha': 51.0}\n",
      "\n",
      "Model with rank: 37\n",
      "Mean validation score: -1.612 (std: 0.116)\n",
      "Parameters: {'alpha': 15.0}\n",
      "\n",
      "Model with rank: 38\n",
      "Mean validation score: -1.612 (std: 0.119)\n",
      "Parameters: {'alpha': 52.0}\n",
      "\n",
      "Model with rank: 39\n",
      "Mean validation score: -1.612 (std: 0.119)\n",
      "Parameters: {'alpha': 53.0}\n",
      "\n",
      "Model with rank: 40\n",
      "Mean validation score: -1.612 (std: 0.116)\n",
      "Parameters: {'alpha': 14.0}\n",
      "\n",
      "Model with rank: 41\n",
      "Mean validation score: -1.612 (std: 0.119)\n",
      "Parameters: {'alpha': 54.0}\n",
      "\n",
      "Model with rank: 42\n",
      "Mean validation score: -1.612 (std: 0.116)\n",
      "Parameters: {'alpha': 13.0}\n",
      "\n",
      "Model with rank: 43\n",
      "Mean validation score: -1.612 (std: 0.119)\n",
      "Parameters: {'alpha': 55.0}\n",
      "\n",
      "Model with rank: 44\n",
      "Mean validation score: -1.612 (std: 0.116)\n",
      "Parameters: {'alpha': 12.0}\n",
      "\n",
      "Model with rank: 45\n",
      "Mean validation score: -1.612 (std: 0.119)\n",
      "Parameters: {'alpha': 56.0}\n",
      "\n",
      "Model with rank: 46\n",
      "Mean validation score: -1.613 (std: 0.119)\n",
      "Parameters: {'alpha': 57.0}\n",
      "\n",
      "Model with rank: 47\n",
      "Mean validation score: -1.613 (std: 0.116)\n",
      "Parameters: {'alpha': 11.0}\n",
      "\n",
      "Model with rank: 48\n",
      "Mean validation score: -1.613 (std: 0.119)\n",
      "Parameters: {'alpha': 58.0}\n",
      "\n",
      "Model with rank: 49\n",
      "Mean validation score: -1.613 (std: 0.120)\n",
      "Parameters: {'alpha': 59.0}\n",
      "\n",
      "Model with rank: 50\n",
      "Mean validation score: -1.613 (std: 0.115)\n",
      "Parameters: {'alpha': 10.0}\n",
      "\n",
      "Model with rank: 51\n",
      "Mean validation score: -1.613 (std: 0.120)\n",
      "Parameters: {'alpha': 60.0}\n",
      "\n",
      "Model with rank: 52\n",
      "Mean validation score: -1.613 (std: 0.120)\n",
      "Parameters: {'alpha': 61.0}\n",
      "\n",
      "Model with rank: 53\n",
      "Mean validation score: -1.613 (std: 0.115)\n",
      "Parameters: {'alpha': 9.0}\n",
      "\n",
      "Model with rank: 54\n",
      "Mean validation score: -1.614 (std: 0.120)\n",
      "Parameters: {'alpha': 62.0}\n",
      "\n",
      "Model with rank: 55\n",
      "Mean validation score: -1.614 (std: 0.120)\n",
      "Parameters: {'alpha': 63.0}\n",
      "\n",
      "Model with rank: 56\n",
      "Mean validation score: -1.614 (std: 0.115)\n",
      "Parameters: {'alpha': 8.0}\n",
      "\n",
      "Model with rank: 57\n",
      "Mean validation score: -1.614 (std: 0.120)\n",
      "Parameters: {'alpha': 64.0}\n",
      "\n",
      "Model with rank: 58\n",
      "Mean validation score: -1.614 (std: 0.120)\n",
      "Parameters: {'alpha': 65.0}\n",
      "\n",
      "Model with rank: 59\n",
      "Mean validation score: -1.614 (std: 0.115)\n",
      "Parameters: {'alpha': 7.0}\n",
      "\n",
      "Model with rank: 60\n",
      "Mean validation score: -1.614 (std: 0.120)\n",
      "Parameters: {'alpha': 66.0}\n",
      "\n",
      "Model with rank: 61\n",
      "Mean validation score: -1.615 (std: 0.120)\n",
      "Parameters: {'alpha': 67.0}\n",
      "\n",
      "Model with rank: 62\n",
      "Mean validation score: -1.615 (std: 0.115)\n",
      "Parameters: {'alpha': 6.0}\n",
      "\n",
      "Model with rank: 63\n",
      "Mean validation score: -1.615 (std: 0.120)\n",
      "Parameters: {'alpha': 68.0}\n",
      "\n",
      "Model with rank: 64\n",
      "Mean validation score: -1.615 (std: 0.120)\n",
      "Parameters: {'alpha': 69.0}\n",
      "\n",
      "Model with rank: 65\n",
      "Mean validation score: -1.615 (std: 0.120)\n",
      "Parameters: {'alpha': 70.0}\n",
      "\n",
      "Model with rank: 66\n",
      "Mean validation score: -1.615 (std: 0.115)\n",
      "Parameters: {'alpha': 5.0}\n",
      "\n",
      "Model with rank: 67\n",
      "Mean validation score: -1.616 (std: 0.121)\n",
      "Parameters: {'alpha': 71.0}\n",
      "\n",
      "Model with rank: 68\n",
      "Mean validation score: -1.616 (std: 0.121)\n",
      "Parameters: {'alpha': 72.0}\n",
      "\n",
      "Model with rank: 69\n",
      "Mean validation score: -1.616 (std: 0.115)\n",
      "Parameters: {'alpha': 4.0}\n",
      "\n",
      "Model with rank: 70\n",
      "Mean validation score: -1.616 (std: 0.121)\n",
      "Parameters: {'alpha': 73.0}\n",
      "\n",
      "Model with rank: 71\n",
      "Mean validation score: -1.616 (std: 0.121)\n",
      "Parameters: {'alpha': 74.0}\n",
      "\n",
      "Model with rank: 72\n",
      "Mean validation score: -1.617 (std: 0.121)\n",
      "Parameters: {'alpha': 75.0}\n",
      "\n",
      "Model with rank: 73\n",
      "Mean validation score: -1.617 (std: 0.116)\n",
      "Parameters: {'alpha': 3.0}\n",
      "\n",
      "Model with rank: 74\n",
      "Mean validation score: -1.617 (std: 0.121)\n",
      "Parameters: {'alpha': 76.0}\n",
      "\n",
      "Model with rank: 75\n",
      "Mean validation score: -1.617 (std: 0.121)\n",
      "Parameters: {'alpha': 77.0}\n",
      "\n",
      "Model with rank: 76\n",
      "Mean validation score: -1.617 (std: 0.121)\n",
      "Parameters: {'alpha': 78.0}\n",
      "\n",
      "Model with rank: 77\n",
      "Mean validation score: -1.618 (std: 0.121)\n",
      "Parameters: {'alpha': 79.0}\n",
      "\n",
      "Model with rank: 78\n",
      "Mean validation score: -1.618 (std: 0.116)\n",
      "Parameters: {'alpha': 2.0}\n",
      "\n",
      "Model with rank: 79\n",
      "Mean validation score: -1.618 (std: 0.121)\n",
      "Parameters: {'alpha': 80.0}\n",
      "\n",
      "Model with rank: 80\n",
      "Mean validation score: -1.618 (std: 0.121)\n",
      "Parameters: {'alpha': 81.0}\n",
      "\n",
      "Model with rank: 81\n",
      "Mean validation score: -1.618 (std: 0.121)\n",
      "Parameters: {'alpha': 82.0}\n",
      "\n",
      "Model with rank: 82\n",
      "Mean validation score: -1.619 (std: 0.116)\n",
      "Parameters: {'alpha': 1.0}\n",
      "\n",
      "Model with rank: 83\n",
      "Mean validation score: -1.619 (std: 0.122)\n",
      "Parameters: {'alpha': 83.0}\n",
      "\n",
      "Model with rank: 84\n",
      "Mean validation score: -1.619 (std: 0.122)\n",
      "Parameters: {'alpha': 84.0}\n",
      "\n",
      "Model with rank: 85\n",
      "Mean validation score: -1.619 (std: 0.122)\n",
      "Parameters: {'alpha': 85.0}\n",
      "\n",
      "Model with rank: 86\n",
      "Mean validation score: -1.620 (std: 0.122)\n",
      "Parameters: {'alpha': 86.0}\n",
      "\n",
      "Model with rank: 87\n",
      "Mean validation score: -1.620 (std: 0.122)\n",
      "Parameters: {'alpha': 87.0}\n",
      "\n",
      "Model with rank: 88\n",
      "Mean validation score: -1.620 (std: 0.122)\n",
      "Parameters: {'alpha': 88.0}\n",
      "\n",
      "Model with rank: 89\n",
      "Mean validation score: -1.620 (std: 0.122)\n",
      "Parameters: {'alpha': 89.0}\n",
      "\n",
      "Model with rank: 90\n",
      "Mean validation score: -1.621 (std: 0.122)\n",
      "Parameters: {'alpha': 90.0}\n",
      "\n",
      "Model with rank: 91\n",
      "Mean validation score: -1.621 (std: 0.122)\n",
      "Parameters: {'alpha': 91.0}\n",
      "\n",
      "Model with rank: 92\n",
      "Mean validation score: -1.621 (std: 0.122)\n",
      "Parameters: {'alpha': 92.0}\n",
      "\n",
      "Model with rank: 93\n",
      "Mean validation score: -1.622 (std: 0.122)\n",
      "Parameters: {'alpha': 93.0}\n",
      "\n",
      "Model with rank: 94\n",
      "Mean validation score: -1.622 (std: 0.122)\n",
      "Parameters: {'alpha': 94.0}\n",
      "\n",
      "Model with rank: 95\n",
      "Mean validation score: -1.622 (std: 0.122)\n",
      "Parameters: {'alpha': 95.0}\n",
      "\n",
      "Model with rank: 96\n",
      "Mean validation score: -1.622 (std: 0.122)\n",
      "Parameters: {'alpha': 96.0}\n",
      "\n",
      "Model with rank: 97\n",
      "Mean validation score: -1.623 (std: 0.122)\n",
      "Parameters: {'alpha': 97.0}\n",
      "\n",
      "Model with rank: 98\n",
      "Mean validation score: -1.623 (std: 0.122)\n",
      "Parameters: {'alpha': 98.0}\n",
      "\n",
      "Model with rank: 99\n",
      "Mean validation score: -1.623 (std: 0.123)\n",
      "Parameters: {'alpha': 99.0}\n",
      "\n",
      "Model with rank: 100\n",
      "Mean validation score: -1.624 (std: 0.123)\n",
      "Parameters: {'alpha': 100.0}\n",
      "\n"
     ]
    }
   ],
   "source": [
    "report(grid_search.cv_results_,100)"
   ]
  },
  {
   "cell_type": "code",
   "execution_count": 61,
   "metadata": {
    "collapsed": true
   },
   "outputs": [],
   "source": [
    "test_pred=grid_search.predict(ld_test)"
   ]
  },
  {
   "cell_type": "code",
   "execution_count": 62,
   "metadata": {
    "collapsed": true
   },
   "outputs": [],
   "source": [
    "pd.DataFrame(test_pred).to_csv(\"mysubmission.csv\",index=False)"
   ]
  },
  {
   "cell_type": "markdown",
   "metadata": {
    "collapsed": true
   },
   "source": [
    "## For looking at coefficients"
   ]
  },
  {
   "cell_type": "code",
   "execution_count": 63,
   "metadata": {
    "collapsed": true
   },
   "outputs": [],
   "source": [
    "ridge_model=grid_search.best_estimator_"
   ]
  },
  {
   "cell_type": "code",
   "execution_count": 64,
   "metadata": {},
   "outputs": [
    {
     "data": {
      "text/plain": [
       "Ridge(alpha=33.0, copy_X=True, fit_intercept=True, max_iter=None,\n",
       "   normalize=False, random_state=None, solver='auto', tol=0.001)"
      ]
     },
     "execution_count": 64,
     "metadata": {},
     "output_type": "execute_result"
    }
   ],
   "source": [
    "ridge_model.fit(x_train,y_train)"
   ]
  },
  {
   "cell_type": "code",
   "execution_count": 65,
   "metadata": {},
   "outputs": [
    {
     "data": {
      "text/plain": [
       "[('Amount.Requested', 0.00016694728491458574),\n",
       " ('Debt.To.Income.Ratio', -0.0012318165592272907),\n",
       " ('Monthly.Income', -2.9587459410661463e-05),\n",
       " ('Open.CREDIT.Lines', -0.03684445654831713),\n",
       " ('Revolving.CREDIT.Balance', -3.0298763520014893e-06),\n",
       " ('Inquiries.in.the.Last.6.Months', 0.34256440527076826),\n",
       " ('Employment.Length', 0.019386236424857747),\n",
       " ('fico', -0.08664708940339345),\n",
       " ('Loan.Length_36 months', -2.839153915719449),\n",
       " ('Loan.Purpose_debt_consolidation', -0.3722442958038135),\n",
       " ('Loan.Purpose_credit_card', -0.4669643121927737),\n",
       " ('Loan.Purpose_other', 0.3782673033850637),\n",
       " ('Loan.Purpose_home_improvement', -0.23409022842016233),\n",
       " ('Loan.Purpose_major_purchase', -0.013616976256590956),\n",
       " ('Loan.Purpose_small_business', 0.08759197675127364),\n",
       " ('Loan.Purpose_car', -0.032575531032440215),\n",
       " ('Loan.Purpose_wedding', -0.3347599518867083),\n",
       " ('Loan.Purpose_medical', -0.09809622633427488),\n",
       " ('Loan.Purpose_moving', 0.4641889033639951),\n",
       " ('State_CA', -0.09953195660418684),\n",
       " ('State_NY', -0.05010586258365032),\n",
       " ('State_TX', 0.42468772376077424),\n",
       " ('State_FL', 0.01915622562772729),\n",
       " ('State_IL', -0.3551615630801558),\n",
       " ('State_GA', -0.0893797898686251),\n",
       " ('State_PA', -0.28844882853987736),\n",
       " ('State_NJ', -0.21582600355787224),\n",
       " ('State_VA', -0.006820534118667723),\n",
       " ('State_MA', -0.021151484211526846),\n",
       " ('State_OH', -0.13837526923961022),\n",
       " ('State_MD', 0.007404318875841603),\n",
       " ('State_NC', -0.250552990250435),\n",
       " ('State_CO', 0.08955252000003061),\n",
       " ('State_WA', -0.09326080152255649),\n",
       " ('State_CT', 0.2487011005044044),\n",
       " ('State_AZ', 0.27536257452536583),\n",
       " ('State_MI', -0.007178475477559322),\n",
       " ('State_MN', -0.04704177945530511),\n",
       " ('State_AL', 0.009932143762133713),\n",
       " ('State_MO', -0.12622562059305872),\n",
       " ('State_NV', -0.01649166255728217),\n",
       " ('State_OR', 0.04297913277607678),\n",
       " ('State_SC', 0.0061001179384546425),\n",
       " ('State_WI', 0.0632947389329473),\n",
       " ('State_KY', 0.06769778677841448),\n",
       " ('State_LA', 0.1083220626119507),\n",
       " ('State_OK', -0.09254255640581581),\n",
       " ('Home.Ownership_MORTGAGE', -0.3051463416846287),\n",
       " ('Home.Ownership_RENT', -0.09822137961740293)]"
      ]
     },
     "execution_count": 65,
     "metadata": {},
     "output_type": "execute_result"
    }
   ],
   "source": [
    "list(zip(x_train1.columns,ridge_model.coef_))"
   ]
  },
  {
   "cell_type": "markdown",
   "metadata": {},
   "source": [
    "## Lasso Regression"
   ]
  },
  {
   "cell_type": "code",
   "execution_count": 66,
   "metadata": {
    "collapsed": true
   },
   "outputs": [],
   "source": [
    "lambdas=np.linspace(1,10,100)\n",
    "model=Lasso(fit_intercept=True)\n",
    "params={'alpha':lambdas}"
   ]
  },
  {
   "cell_type": "code",
   "execution_count": 67,
   "metadata": {
    "collapsed": true
   },
   "outputs": [],
   "source": [
    "grid_search=GridSearchCV(model,param_grid=params,cv=10,scoring='neg_mean_absolute_error')"
   ]
  },
  {
   "cell_type": "code",
   "execution_count": 68,
   "metadata": {},
   "outputs": [
    {
     "data": {
      "text/plain": [
       "GridSearchCV(cv=10, error_score='raise',\n",
       "       estimator=Lasso(alpha=1.0, copy_X=True, fit_intercept=True, max_iter=1000,\n",
       "   normalize=False, positive=False, precompute=False, random_state=None,\n",
       "   selection='cyclic', tol=0.0001, warm_start=False),\n",
       "       fit_params={}, iid=True, n_jobs=1,\n",
       "       param_grid={'alpha': array([ 1.     ,  1.09091, ...,  9.90909, 10.     ])},\n",
       "       pre_dispatch='2*n_jobs', refit=True, return_train_score=True,\n",
       "       scoring='neg_mean_absolute_error', verbose=0)"
      ]
     },
     "execution_count": 68,
     "metadata": {},
     "output_type": "execute_result"
    }
   ],
   "source": [
    "grid_search.fit(x_train,y_train)"
   ]
  },
  {
   "cell_type": "code",
   "execution_count": 69,
   "metadata": {},
   "outputs": [
    {
     "data": {
      "text/plain": [
       "Lasso(alpha=1.0, copy_X=True, fit_intercept=True, max_iter=1000,\n",
       "   normalize=False, positive=False, precompute=False, random_state=None,\n",
       "   selection='cyclic', tol=0.0001, warm_start=False)"
      ]
     },
     "execution_count": 69,
     "metadata": {},
     "output_type": "execute_result"
    }
   ],
   "source": [
    "grid_search.best_estimator_"
   ]
  },
  {
   "cell_type": "markdown",
   "metadata": {},
   "source": [
    "you can see that, the best value of alpha comes at the edge of the range that we tried , we should expand the trial range on that side and run this again"
   ]
  },
  {
   "cell_type": "code",
   "execution_count": 70,
   "metadata": {
    "collapsed": true
   },
   "outputs": [],
   "source": [
    "lambdas=np.linspace(.001,2,100)\n",
    "params={'alpha':lambdas}"
   ]
  },
  {
   "cell_type": "code",
   "execution_count": 71,
   "metadata": {},
   "outputs": [
    {
     "data": {
      "text/plain": [
       "GridSearchCV(cv=10, error_score='raise',\n",
       "       estimator=Lasso(alpha=1.0, copy_X=True, fit_intercept=True, max_iter=1000,\n",
       "   normalize=False, positive=False, precompute=False, random_state=None,\n",
       "   selection='cyclic', tol=0.0001, warm_start=False),\n",
       "       fit_params={}, iid=True, n_jobs=1,\n",
       "       param_grid={'alpha': array([1.00000e-03, 2.11919e-02, ..., 1.97981e+00, 2.00000e+00])},\n",
       "       pre_dispatch='2*n_jobs', refit=True, return_train_score=True,\n",
       "       scoring='neg_mean_absolute_error', verbose=0)"
      ]
     },
     "execution_count": 71,
     "metadata": {},
     "output_type": "execute_result"
    }
   ],
   "source": [
    "grid_search=GridSearchCV(model,param_grid=params,cv=10,scoring='neg_mean_absolute_error')\n",
    "grid_search.fit(x_train,y_train)"
   ]
  },
  {
   "cell_type": "code",
   "execution_count": 72,
   "metadata": {},
   "outputs": [
    {
     "data": {
      "text/plain": [
       "Lasso(alpha=0.021191919191919192, copy_X=True, fit_intercept=True,\n",
       "   max_iter=1000, normalize=False, positive=False, precompute=False,\n",
       "   random_state=None, selection='cyclic', tol=0.0001, warm_start=False)"
      ]
     },
     "execution_count": 72,
     "metadata": {},
     "output_type": "execute_result"
    }
   ],
   "source": [
    "grid_search.best_estimator_"
   ]
  },
  {
   "cell_type": "code",
   "execution_count": 73,
   "metadata": {},
   "outputs": [
    {
     "name": "stdout",
     "output_type": "stream",
     "text": [
      "Model with rank: 1\n",
      "Mean validation score: -1.603 (std: 0.120)\n",
      "Parameters: {'alpha': 0.021191919191919192}\n",
      "\n",
      "Model with rank: 2\n",
      "Mean validation score: -1.612 (std: 0.126)\n",
      "Parameters: {'alpha': 0.041383838383838384}\n",
      "\n",
      "Model with rank: 3\n",
      "Mean validation score: -1.615 (std: 0.116)\n",
      "Parameters: {'alpha': 0.001}\n",
      "\n",
      "Model with rank: 4\n",
      "Mean validation score: -1.619 (std: 0.127)\n",
      "Parameters: {'alpha': 0.061575757575757575}\n",
      "\n",
      "Model with rank: 5\n",
      "Mean validation score: -1.624 (std: 0.128)\n",
      "Parameters: {'alpha': 0.08176767676767677}\n",
      "\n"
     ]
    }
   ],
   "source": [
    "report(grid_search.cv_results_,5)"
   ]
  },
  {
   "cell_type": "code",
   "execution_count": 74,
   "metadata": {
    "collapsed": true
   },
   "outputs": [],
   "source": [
    "lasso_model=grid_search.best_estimator_"
   ]
  },
  {
   "cell_type": "code",
   "execution_count": 75,
   "metadata": {},
   "outputs": [
    {
     "data": {
      "text/plain": [
       "Lasso(alpha=0.021191919191919192, copy_X=True, fit_intercept=True,\n",
       "   max_iter=1000, normalize=False, positive=False, precompute=False,\n",
       "   random_state=None, selection='cyclic', tol=0.0001, warm_start=False)"
      ]
     },
     "execution_count": 75,
     "metadata": {},
     "output_type": "execute_result"
    }
   ],
   "source": [
    "lasso_model.fit(x_train,y_train)"
   ]
  },
  {
   "cell_type": "code",
   "execution_count": 76,
   "metadata": {},
   "outputs": [
    {
     "data": {
      "text/plain": [
       "[('Amount.Requested', 0.00016025576388069371),\n",
       " ('Debt.To.Income.Ratio', -0.0009940455335086503),\n",
       " ('Monthly.Income', -2.7161150694601467e-05),\n",
       " ('Open.CREDIT.Lines', -0.037760669422682545),\n",
       " ('Revolving.CREDIT.Balance', -3.2291582902347895e-06),\n",
       " ('Inquiries.in.the.Last.6.Months', 0.32734647665538585),\n",
       " ('Employment.Length', 0.011883001638602725),\n",
       " ('fico', -0.08647817945138424),\n",
       " ('Loan.Length_36 months', -3.0098932744846625),\n",
       " ('Loan.Purpose_debt_consolidation', -0.17801822304251194),\n",
       " ('Loan.Purpose_credit_card', -0.2205326921338361),\n",
       " ('Loan.Purpose_other', 0.3196217853383158),\n",
       " ('Loan.Purpose_home_improvement', -0.0),\n",
       " ('Loan.Purpose_major_purchase', 0.0),\n",
       " ('Loan.Purpose_small_business', 0.0),\n",
       " ('Loan.Purpose_car', 0.0),\n",
       " ('Loan.Purpose_wedding', -0.0),\n",
       " ('Loan.Purpose_medical', -0.0),\n",
       " ('Loan.Purpose_moving', 0.0),\n",
       " ('State_CA', -0.0),\n",
       " ('State_NY', 0.0),\n",
       " ('State_TX', 0.2592516325019151),\n",
       " ('State_FL', 0.0),\n",
       " ('State_IL', -0.0),\n",
       " ('State_GA', -0.0),\n",
       " ('State_PA', -0.0),\n",
       " ('State_NJ', -0.0),\n",
       " ('State_VA', 0.0),\n",
       " ('State_MA', 0.0),\n",
       " ('State_OH', -0.0),\n",
       " ('State_MD', 0.0),\n",
       " ('State_NC', -0.0),\n",
       " ('State_CO', 0.0),\n",
       " ('State_WA', -0.0),\n",
       " ('State_CT', 0.0),\n",
       " ('State_AZ', 0.0),\n",
       " ('State_MI', 0.0),\n",
       " ('State_MN', -0.0),\n",
       " ('State_AL', 0.0),\n",
       " ('State_MO', -0.0),\n",
       " ('State_NV', 0.0),\n",
       " ('State_OR', 0.0),\n",
       " ('State_SC', 0.0),\n",
       " ('State_WI', 0.0),\n",
       " ('State_KY', 0.0),\n",
       " ('State_LA', 0.0),\n",
       " ('State_OK', -0.0),\n",
       " ('Home.Ownership_MORTGAGE', -0.1559877775011337),\n",
       " ('Home.Ownership_RENT', 0.0)]"
      ]
     },
     "execution_count": 76,
     "metadata": {},
     "output_type": "execute_result"
    }
   ],
   "source": [
    "list(zip(x_train.columns,lasso_model.coef_))"
   ]
  },
  {
   "cell_type": "markdown",
   "metadata": {
    "collapsed": true
   },
   "source": [
    "# Logistic Regression"
   ]
  },
  {
   "cell_type": "code",
   "execution_count": null,
   "metadata": {
    "collapsed": true
   },
   "outputs": [],
   "source": [
    "import numpy as np\n",
    "import pandas as pd"
   ]
  },
  {
   "cell_type": "code",
   "execution_count": null,
   "metadata": {
    "collapsed": true
   },
   "outputs": [],
   "source": [
    "train_file=r'~/Dropbox/0.0 Data/rg_train.csv'\n",
    "test_file=r'~/Dropbox/0.0 Data/rg_test.csv'\n",
    "bd_train=pd.read_csv(train_file)\n",
    "\n",
    "bd_test=pd.read_csv(test_file)\n",
    "\n",
    "\n",
    "bd_test['Revenue.Grid']=np.nan\n",
    "bd_train['data']='train'\n",
    "bd_test['data']='test'\n",
    "bd_test=bd_test[bd_train.columns]\n",
    "bd_all=pd.concat([bd_train,bd_test],axis=0)"
   ]
  },
  {
   "cell_type": "code",
   "execution_count": null,
   "metadata": {},
   "outputs": [],
   "source": [
    "bd_all['Revenue.Grid'].value_counts()"
   ]
  },
  {
   "cell_type": "code",
   "execution_count": null,
   "metadata": {},
   "outputs": [],
   "source": [
    "list(zip(bd_all.columns,bd_all.dtypes,bd_all.nunique()))"
   ]
  },
  {
   "cell_type": "code",
   "execution_count": null,
   "metadata": {
    "collapsed": true
   },
   "outputs": [],
   "source": [
    "# REF_NO,post_code , post_area  : drop \n",
    "# children : Zero : 0 , 4+ : 4 and then convert to numeric\n",
    "# age_band : dummies \n",
    "# status , occupation , occupation_partner , home_status,family_income : dummies\n",
    "# self_employed, ` : dummies\n",
    "# TVArea , Region , gender : dummies\n",
    "# Revenue Grid : 1,2 : 1,0"
   ]
  },
  {
   "cell_type": "code",
   "execution_count": null,
   "metadata": {
    "collapsed": true
   },
   "outputs": [],
   "source": [
    "bd_all.drop(['REF_NO','post_code','post_area'],axis=1,inplace=True)"
   ]
  },
  {
   "cell_type": "code",
   "execution_count": null,
   "metadata": {
    "collapsed": true
   },
   "outputs": [],
   "source": [
    "bd_all['children']=np.where(bd_all['children']=='Zero',0,bd_all['children'])\n",
    "bd_all['children']=np.where(bd_all['children'][:1]=='4',4,bd_all['children'])\n",
    "bd_all['children']=pd.to_numeric(bd_all['children'],errors='coerce')"
   ]
  },
  {
   "cell_type": "code",
   "execution_count": null,
   "metadata": {
    "collapsed": true
   },
   "outputs": [],
   "source": [
    "bd_all['Revenue.Grid']=(bd_all['Revenue.Grid']==1).astype(int)"
   ]
  },
  {
   "cell_type": "code",
   "execution_count": null,
   "metadata": {},
   "outputs": [],
   "source": [
    "cat_vars=bd_all.select_dtypes(['object']).columns\n",
    "\n",
    "cat_vars"
   ]
  },
  {
   "cell_type": "code",
   "execution_count": null,
   "metadata": {},
   "outputs": [],
   "source": [
    "for col in cat_vars[:-1]:\n",
    "    dummy=pd.get_dummies(bd_all[col],drop_first=True,prefix=col)\n",
    "    bd_all=pd.concat([bd_all,dummy],axis=1)\n",
    "    del bd_all[col]\n",
    "    print(col)\n",
    "del dummy"
   ]
  },
  {
   "cell_type": "code",
   "execution_count": null,
   "metadata": {},
   "outputs": [],
   "source": [
    "bd_all.shape"
   ]
  },
  {
   "cell_type": "code",
   "execution_count": null,
   "metadata": {},
   "outputs": [],
   "source": [
    "bd_all.isnull().sum()"
   ]
  },
  {
   "cell_type": "code",
   "execution_count": null,
   "metadata": {
    "collapsed": true
   },
   "outputs": [],
   "source": [
    "bd_all.loc[bd_all['children'].isnull(),'children']=bd_all.loc[bd_all['data']=='train','children'].mean()\n"
   ]
  },
  {
   "cell_type": "code",
   "execution_count": null,
   "metadata": {},
   "outputs": [],
   "source": [
    "bd_train=bd_all[bd_all['data']=='train']\n",
    "del bd_train['data']\n",
    "bd_test=bd_all[bd_all['data']=='test']\n",
    "bd_test.drop(['Revenue.Grid','data'],axis=1,inplace=True)"
   ]
  },
  {
   "cell_type": "code",
   "execution_count": null,
   "metadata": {
    "collapsed": true
   },
   "outputs": [],
   "source": [
    "from sklearn.linear_model import LogisticRegression\n",
    "from sklearn.metrics import roc_auc_score"
   ]
  },
  {
   "cell_type": "code",
   "execution_count": null,
   "metadata": {
    "collapsed": true
   },
   "outputs": [],
   "source": [
    "params={'class_weight':['balanced',None],\n",
    "        'penalty':['l1','l2'],\n",
    "        'C':np.linspace(0.01,1000,10)}"
   ]
  },
  {
   "cell_type": "code",
   "execution_count": null,
   "metadata": {
    "collapsed": true
   },
   "outputs": [],
   "source": [
    "model=LogisticRegression(fit_intercept=True)"
   ]
  },
  {
   "cell_type": "code",
   "execution_count": null,
   "metadata": {
    "collapsed": true
   },
   "outputs": [],
   "source": [
    "grid_search=GridSearchCV(model,param_grid=params,cv=5,scoring=\"roc_auc\")"
   ]
  },
  {
   "cell_type": "code",
   "execution_count": null,
   "metadata": {
    "collapsed": true
   },
   "outputs": [],
   "source": [
    "x_train=bd_train.drop('Revenue.Grid',axis=1)\n",
    "y_train=bd_train['Revenue.Grid']"
   ]
  },
  {
   "cell_type": "code",
   "execution_count": null,
   "metadata": {},
   "outputs": [],
   "source": [
    "grid_search.fit(x_train,y_train)"
   ]
  },
  {
   "cell_type": "code",
   "execution_count": null,
   "metadata": {},
   "outputs": [],
   "source": [
    "grid_search.best_estimator_"
   ]
  },
  {
   "cell_type": "code",
   "execution_count": null,
   "metadata": {
    "collapsed": true
   },
   "outputs": [],
   "source": [
    "logr=grid_search.best_estimator_"
   ]
  },
  {
   "cell_type": "code",
   "execution_count": null,
   "metadata": {},
   "outputs": [],
   "source": [
    "report(grid_search.cv_results_,5)"
   ]
  },
  {
   "cell_type": "code",
   "execution_count": null,
   "metadata": {},
   "outputs": [],
   "source": [
    "logr.fit(x_train,y_train)"
   ]
  },
  {
   "cell_type": "code",
   "execution_count": null,
   "metadata": {},
   "outputs": [],
   "source": [
    "cutoffs=np.linspace(0.01,0.99,99)\n",
    "\n",
    "cutoffs"
   ]
  },
  {
   "cell_type": "code",
   "execution_count": null,
   "metadata": {
    "collapsed": true
   },
   "outputs": [],
   "source": [
    "train_score=logr.predict_proba(x_train)[:,1]\n",
    "\n",
    "real=y_train"
   ]
  },
  {
   "cell_type": "code",
   "execution_count": null,
   "metadata": {},
   "outputs": [],
   "source": [
    "train_score>0.2"
   ]
  },
  {
   "cell_type": "code",
   "execution_count": null,
   "metadata": {
    "collapsed": true
   },
   "outputs": [],
   "source": [
    "KS_all=[]\n",
    "\n",
    "for cutoff in cutoffs:\n",
    "    \n",
    "    predicted=(train_score>cutoff).astype(int)\n",
    "\n",
    "    TP=((predicted==1) & (real==1)).sum()\n",
    "    TN=((predicted==0) & (real==0)).sum()\n",
    "    FP=((predicted==1) & (real==0)).sum()\n",
    "    FN=((predicted==0) & (real==1)).sum()\n",
    "    \n",
    "    P=TP+FN\n",
    "    N=TN+FP\n",
    "      \n",
    "    KS=(TP/P)-(FP/N)\n",
    "    \n",
    "    \n",
    "    KS_all.append(KS)\n",
    "\n",
    "# try out what cutoffs you get when you use F_beta scores with different values of betas [0.5 , 5]\n",
    "# beta < 1 : you will get cutoff , which is high ( favours precision)\n",
    "# beta > 1 : you will get cutoff , which is low (favours precision )"
   ]
  },
  {
   "cell_type": "code",
   "execution_count": null,
   "metadata": {},
   "outputs": [],
   "source": [
    "mycutoff=cutoffs[KS_all==max(KS_all)][0]\n",
    "mycutoff"
   ]
  },
  {
   "cell_type": "code",
   "execution_count": null,
   "metadata": {},
   "outputs": [],
   "source": [
    "logr.intercept_"
   ]
  },
  {
   "cell_type": "code",
   "execution_count": null,
   "metadata": {},
   "outputs": [],
   "source": [
    "list(zip(x_train.columns,logr.coef_[0]))"
   ]
  },
  {
   "cell_type": "markdown",
   "metadata": {},
   "source": [
    "if you simply had to submit probability scores , you could do this "
   ]
  },
  {
   "cell_type": "code",
   "execution_count": null,
   "metadata": {
    "collapsed": true
   },
   "outputs": [],
   "source": [
    "test_score=logr.predict_proba(bd_test)[:,1]\n",
    "pd.DataFrame(test_score).to_csv(\"mysubmission.csv\",index=False)"
   ]
  },
  {
   "cell_type": "markdown",
   "metadata": {},
   "source": [
    "if you had to submit hardclasses , you can apply the cutoff obtained above and then submit"
   ]
  },
  {
   "cell_type": "code",
   "execution_count": null,
   "metadata": {
    "collapsed": true
   },
   "outputs": [],
   "source": [
    "test_classes=(test_score>mycutoff).astype(int)"
   ]
  },
  {
   "cell_type": "code",
   "execution_count": null,
   "metadata": {
    "collapsed": true
   },
   "outputs": [],
   "source": [
    "pd.DataFrame(test_classes).to_csv(\"mysubmission.csv\",index=False)"
   ]
  },
  {
   "cell_type": "code",
   "execution_count": null,
   "metadata": {
    "collapsed": true
   },
   "outputs": [],
   "source": []
  }
 ],
 "metadata": {
  "kernelspec": {
   "display_name": "Python [Root]",
   "language": "python",
   "name": "Python [Root]"
  },
  "language_info": {
   "codemirror_mode": {
    "name": "ipython",
    "version": 3
   },
   "file_extension": ".py",
   "mimetype": "text/x-python",
   "name": "python",
   "nbconvert_exporter": "python",
   "pygments_lexer": "ipython3",
   "version": "3.5.3"
  }
 },
 "nbformat": 4,
 "nbformat_minor": 2
}
